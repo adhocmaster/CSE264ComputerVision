{
 "cells": [
  {
   "cell_type": "code",
   "execution_count": 33,
   "metadata": {},
   "outputs": [
    {
     "name": "stdout",
     "output_type": "stream",
     "text": [
      "Using matplotlib backend: Qt5Agg\n"
     ]
    }
   ],
   "source": [
    "import cv2\n",
    "import numpy as np\n",
    "from PIL import Image\n",
    "%matplotlib auto"
   ]
  },
  {
   "cell_type": "code",
   "execution_count": 2,
   "metadata": {},
   "outputs": [],
   "source": [
    "import seaborn as sns\n",
    "import matplotlib.pyplot as plt\n",
    "sns.set()"
   ]
  },
  {
   "cell_type": "code",
   "execution_count": 3,
   "metadata": {},
   "outputs": [],
   "source": [
    "import math\n",
    "from sklearn.linear_model import LinearRegression"
   ]
  },
  {
   "cell_type": "code",
   "execution_count": 34,
   "metadata": {},
   "outputs": [],
   "source": [
    "img = cv2.imread(\"4.jpg\")\n",
    "img2= Image.open(\"4.jpg\")"
   ]
  },
  {
   "cell_type": "code",
   "execution_count": 35,
   "metadata": {},
   "outputs": [
    {
     "ename": "AttributeError",
     "evalue": "'JpegImageFile' object has no attribute 'shape'",
     "output_type": "error",
     "traceback": [
      "\u001b[1;31m---------------------------------------------------------------------------\u001b[0m",
      "\u001b[1;31mAttributeError\u001b[0m                            Traceback (most recent call last)",
      "\u001b[1;32m<ipython-input-35-90f82793b7d9>\u001b[0m in \u001b[0;36m<module>\u001b[1;34m()\u001b[0m\n\u001b[1;32m----> 1\u001b[1;33m \u001b[0mimg2\u001b[0m\u001b[1;33m.\u001b[0m\u001b[0mshape\u001b[0m\u001b[1;33m\u001b[0m\u001b[0m\n\u001b[0m",
      "\u001b[1;31mAttributeError\u001b[0m: 'JpegImageFile' object has no attribute 'shape'"
     ]
    }
   ],
   "source": [
    "img2."
   ]
  },
  {
   "cell_type": "code",
   "execution_count": 5,
   "metadata": {},
   "outputs": [],
   "source": [
    "cv2.imshow('Original Image', img)\n",
    "cv2.waitKey(10000)\n",
    "cv2.destroyAllWindows()"
   ]
  },
  {
   "cell_type": "code",
   "execution_count": 6,
   "metadata": {},
   "outputs": [],
   "source": [
    "h,w = img.shape[0:2]"
   ]
  },
  {
   "cell_type": "code",
   "execution_count": 7,
   "metadata": {},
   "outputs": [],
   "source": [
    "T = [4, 10, 15, 25, 40, 90, 125, 160, 200]"
   ]
  },
  {
   "cell_type": "code",
   "execution_count": 8,
   "metadata": {},
   "outputs": [],
   "source": [
    "\n",
    "for index in T:\n",
    "    img = cv2.imread(f\"{index}.jpg\")\n",
    "    cropped = img[0:h, 0:w]\n",
    "    cv2.imwrite(f\"{index}-p.jpg\", cropped)\n",
    "    "
   ]
  },
  {
   "cell_type": "code",
   "execution_count": 9,
   "metadata": {},
   "outputs": [
    {
     "name": "stdout",
     "output_type": "stream",
     "text": [
      "4-p.jpg r:238.05122085048012, g:222.7633196159122, b:204.29733882030177\n",
      "10-p.jpg r:201.50075445816188, g:185.0356241426612, b:169.11200274348423\n",
      "15-p.jpg r:167.94796982167352, g:155.29267489711935, b:139.71318244170095\n",
      "25-p.jpg r:133.68124828532237, g:123.83524005486969, b:111.73971193415638\n",
      "40-p.jpg r:99.42213991769547, g:92.35936899862826, b:81.27004115226337\n",
      "90-p.jpg r:59.75310013717421, g:53.705884773662554, b:47.52319615912209\n",
      "125-p.jpg r:41.337475994513035, g:36.461001371742114, b:30.440438957475994\n",
      "160-p.jpg r:34.569533607681755, g:30.392894375857338, b:25.679355281207133\n",
      "200-p.jpg r:15.265020576131688, g:14.543319615912209, b:10.404266117969822\n"
     ]
    }
   ],
   "source": [
    "channels = {}\n",
    "cB = []\n",
    "cG = []\n",
    "cR = []\n",
    "for index in T:\n",
    "    img = cv2.imread(f\"{index}-p.jpg\")\n",
    "    b, g, r = img[:, :, 0], img[:, :, 1], img[:, :, 2]\n",
    "    b = np.mean(b)\n",
    "    g = np.mean(g)\n",
    "    r = np.mean(r)\n",
    "    channels[index] = (b, g, r)\n",
    "    cB.append(b)\n",
    "    cG.append(g)\n",
    "    cR.append(r)\n",
    "    print(f\"{index}-p.jpg r:{r}, g:{g}, b:{b}\")"
   ]
  },
  {
   "cell_type": "code",
   "execution_count": 10,
   "metadata": {},
   "outputs": [],
   "source": [
    "# T.reverse()\n",
    "# cB.reverse()\n",
    "# cG.reverse()\n",
    "# cR.reverse()"
   ]
  },
  {
   "cell_type": "code",
   "execution_count": 11,
   "metadata": {},
   "outputs": [],
   "source": [
    "Ts = [1/t for t in T]\n",
    "    "
   ]
  },
  {
   "cell_type": "code",
   "execution_count": 12,
   "metadata": {},
   "outputs": [
    {
     "data": {
      "text/plain": [
       "<matplotlib.axes._subplots.AxesSubplot at 0x1b455595da0>"
      ]
     },
     "execution_count": 12,
     "metadata": {},
     "output_type": "execute_result"
    }
   ],
   "source": [
    "sns.lineplot(x = Ts, y = cB, marker='o')"
   ]
  },
  {
   "cell_type": "code",
   "execution_count": 13,
   "metadata": {},
   "outputs": [],
   "source": [
    "logTs = np.array(np.log(Ts))\n",
    "logB = np.array(np.log(cB))\n",
    "logG = np.array(np.log(cG))\n",
    "logR = np.array(np.log(cR))"
   ]
  },
  {
   "cell_type": "code",
   "execution_count": 29,
   "metadata": {},
   "outputs": [
    {
     "data": {
      "text/plain": [
       "<matplotlib.axes._subplots.AxesSubplot at 0x1b456f7ba20>"
      ]
     },
     "execution_count": 29,
     "metadata": {},
     "output_type": "execute_result"
    }
   ],
   "source": [
    "# sns.lineplot(x = logTs, y = logB, marker='o')\n",
    "# sns.lineplot(x = logTs, y = logG, marker='o', color='g')\n",
    "sns.lineplot(x = logTs, y = logR, marker='o', color='r')"
   ]
  },
  {
   "cell_type": "code",
   "execution_count": 18,
   "metadata": {},
   "outputs": [],
   "source": [
    "################## Regression\n",
    "def getG(logTime, logChannel):\n",
    "    model = LinearRegression().fit(logTime.reshape(-1, 1), logChannel)\n",
    "    return (1 / model.coef_[0])"
   ]
  },
  {
   "cell_type": "code",
   "execution_count": 19,
   "metadata": {},
   "outputs": [],
   "source": [
    "gB = getG(logTs, logB)\n",
    "gG = getG(logTs, logG)\n",
    "gR = getG(logTs, logR)"
   ]
  },
  {
   "cell_type": "code",
   "execution_count": 20,
   "metadata": {},
   "outputs": [
    {
     "data": {
      "text/plain": [
       "1.5526529746220272"
      ]
     },
     "execution_count": 20,
     "metadata": {},
     "output_type": "execute_result"
    }
   ],
   "source": [
    "gR"
   ]
  },
  {
   "cell_type": "code",
   "execution_count": 21,
   "metadata": {},
   "outputs": [],
   "source": [
    "originalB = np.power(cB, gB)\n",
    "originalG = np.power(cG, gG)\n",
    "originalR = np.power(cR, gR)"
   ]
  },
  {
   "cell_type": "code",
   "execution_count": 25,
   "metadata": {},
   "outputs": [
    {
     "data": {
      "text/plain": [
       "<matplotlib.axes._subplots.AxesSubplot at 0x1b456d40128>"
      ]
     },
     "execution_count": 25,
     "metadata": {},
     "output_type": "execute_result"
    }
   ],
   "source": [
    "sns.lineplot(x = Ts, y = originalB, marker='o')\n",
    "sns.lineplot(x = Ts, y = originalG, marker='o', color='g')\n",
    "sns.lineplot(x = Ts, y = originalR, marker='o', color='r')"
   ]
  },
  {
   "cell_type": "code",
   "execution_count": 36,
   "metadata": {},
   "outputs": [
    {
     "name": "stdout",
     "output_type": "stream",
     "text": [
      "gB = 1.4400324117846943\n",
      "gG = 1.5335689920700644\n",
      "gR = 1.5526529746220272\n"
     ]
    }
   ],
   "source": [
    "print(f'gB = {gB}')\n",
    "print(f'gG = {gG}')\n",
    "print(f'gR = {gR}')"
   ]
  },
  {
   "cell_type": "code",
   "execution_count": null,
   "metadata": {},
   "outputs": [],
   "source": []
  }
 ],
 "metadata": {
  "kernelspec": {
   "display_name": "Python 3.6.6 64-bit",
   "language": "python",
   "name": "python36664bit88118593fe5143aebacac9b7384e5f5c"
  },
  "language_info": {
   "codemirror_mode": {
    "name": "ipython",
    "version": 3
   },
   "file_extension": ".py",
   "mimetype": "text/x-python",
   "name": "python",
   "nbconvert_exporter": "python",
   "pygments_lexer": "ipython3",
   "version": "3.6.6"
  }
 },
 "nbformat": 4,
 "nbformat_minor": 4
}
