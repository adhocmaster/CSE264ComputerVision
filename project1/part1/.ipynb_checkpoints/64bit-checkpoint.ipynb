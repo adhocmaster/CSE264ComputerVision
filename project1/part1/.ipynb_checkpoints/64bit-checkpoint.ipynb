{
 "cells": [
  {
   "cell_type": "code",
   "execution_count": 23,
   "metadata": {},
   "outputs": [
    {
     "name": "stdout",
     "output_type": "stream",
     "text": [
      "Using matplotlib backend: Qt5Agg\n"
     ]
    }
   ],
   "source": [
    "import cv2\n",
    "import numpy as np\n",
    "%matplotlib auto"
   ]
  },
  {
   "cell_type": "code",
   "execution_count": 29,
   "metadata": {},
   "outputs": [],
   "source": [
    "import seaborn"
   ]
  },
  {
   "cell_type": "code",
   "execution_count": 11,
   "metadata": {},
   "outputs": [],
   "source": [
    "img = cv2.imread(\"4.jpg\")"
   ]
  },
  {
   "cell_type": "code",
   "execution_count": 18,
   "metadata": {},
   "outputs": [],
   "source": [
    "cv2.imshow('Original Image', img)\n",
    "cv2.waitKey(10000)\n",
    "cv2.destroyAllWindows()"
   ]
  },
  {
   "cell_type": "code",
   "execution_count": 20,
   "metadata": {},
   "outputs": [],
   "source": [
    "h,w = img.shape[0:2]"
   ]
  },
  {
   "cell_type": "code",
   "execution_count": 25,
   "metadata": {},
   "outputs": [],
   "source": [
    "T = [4, 10, 15, 25, 40, 90, 125, 160, 200]"
   ]
  },
  {
   "cell_type": "code",
   "execution_count": 22,
   "metadata": {},
   "outputs": [],
   "source": [
    "\n",
    "for index in T:\n",
    "    img = cv2.imread(f\"{index}.jpg\")\n",
    "    cropped = img[0:h, 0:w]\n",
    "    cv2.imwrite(f\"{index}-p.jpg\", cropped)\n",
    "    "
   ]
  },
  {
   "cell_type": "code",
   "execution_count": 27,
   "metadata": {},
   "outputs": [
    {
     "name": "stdout",
     "output_type": "stream",
     "text": [
      "4-p.jpg r:238.05122085048012, g:222.7633196159122, b:204.29733882030177\n",
      "10-p.jpg r:201.50075445816188, g:185.0356241426612, b:169.11200274348423\n",
      "15-p.jpg r:167.94796982167352, g:155.29267489711935, b:139.71318244170095\n",
      "25-p.jpg r:133.68124828532237, g:123.83524005486969, b:111.73971193415638\n",
      "40-p.jpg r:99.42213991769547, g:92.35936899862826, b:81.27004115226337\n",
      "90-p.jpg r:59.75310013717421, g:53.705884773662554, b:47.52319615912209\n",
      "125-p.jpg r:41.337475994513035, g:36.461001371742114, b:30.440438957475994\n",
      "160-p.jpg r:34.569533607681755, g:30.392894375857338, b:25.679355281207133\n",
      "200-p.jpg r:15.265020576131688, g:14.543319615912209, b:10.404266117969822\n"
     ]
    }
   ],
   "source": [
    "channels = {}\n",
    "cB = []\n",
    "cG = []\n",
    "cR = []\n",
    "for index in T:\n",
    "    img = cv2.imread(f\"{index}-p.jpg\")\n",
    "    b, g, r = img[:, :, 0], img[:, :, 1], img[:, :, 2]\n",
    "    b = np.mean(b)\n",
    "    g = np.mean(g)\n",
    "    r = np.mean(r)\n",
    "    channels[index] = (b, g, r)\n",
    "    cB.append(b)\n",
    "    cG.append(g)\n",
    "    cR.append(R)\n",
    "    print(f\"{index}-p.jpg r:{r}, g:{g}, b:{b}\")"
   ]
  },
  {
   "cell_type": "code",
   "execution_count": 28,
   "metadata": {},
   "outputs": [
    {
     "data": {
      "text/plain": [
       "{4: (204.29733882030177, 222.7633196159122, 238.05122085048012),\n",
       " 10: (169.11200274348423, 185.0356241426612, 201.50075445816188),\n",
       " 15: (139.71318244170095, 155.29267489711935, 167.94796982167352),\n",
       " 25: (111.73971193415638, 123.83524005486969, 133.68124828532237),\n",
       " 40: (81.27004115226337, 92.35936899862826, 99.42213991769547),\n",
       " 90: (47.52319615912209, 53.705884773662554, 59.75310013717421),\n",
       " 125: (30.440438957475994, 36.461001371742114, 41.337475994513035),\n",
       " 160: (25.679355281207133, 30.392894375857338, 34.569533607681755),\n",
       " 200: (10.404266117969822, 14.543319615912209, 15.265020576131688)}"
      ]
     },
     "execution_count": 28,
     "metadata": {},
     "output_type": "execute_result"
    }
   ],
   "source": [
    "channels"
   ]
  },
  {
   "cell_type": "code",
   "execution_count": null,
   "metadata": {},
   "outputs": [],
   "source": [
    "seaborn.lineplot(x = T, )"
   ]
  }
 ],
 "metadata": {
  "kernelspec": {
   "display_name": "Python 3.6.6 64-bit",
   "language": "python",
   "name": "python36664bit88118593fe5143aebacac9b7384e5f5c"
  },
  "language_info": {
   "codemirror_mode": {
    "name": "ipython",
    "version": 3
   },
   "file_extension": ".py",
   "mimetype": "text/x-python",
   "name": "python",
   "nbconvert_exporter": "python",
   "pygments_lexer": "ipython3",
   "version": "3.6.6"
  }
 },
 "nbformat": 4,
 "nbformat_minor": 4
}
