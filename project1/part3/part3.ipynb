{
 "cells": [
  {
   "cell_type": "code",
   "execution_count": 2,
   "metadata": {},
   "outputs": [
    {
     "name": "stdout",
     "output_type": "stream",
     "text": [
      "Using matplotlib backend: Qt5Agg\n"
     ]
    }
   ],
   "source": [
    "import cv2\n",
    "import numpy as np\n",
    "import seaborn as sns\n",
    "import matplotlib.pyplot as plt\n",
    "import math\n",
    "from sklearn.linear_model import LinearRegression\n",
    "sns.set()\n",
    "# sns.set(rc={'axes.facecolor':'white', 'figure.facecolor':'#cccccc'})\n",
    "%matplotlib auto\n",
    "from PIL import Image\n",
    "import pandas as pd"
   ]
  },
  {
   "cell_type": "code",
   "execution_count": 3,
   "metadata": {},
   "outputs": [],
   "source": [
    "gB = 1.4400324117846943\n",
    "gG = 1.5335689920700644\n",
    "gR = 1.5526529746220272"
   ]
  },
  {
   "cell_type": "code",
   "execution_count": 12,
   "metadata": {},
   "outputs": [],
   "source": [
    "df = pd.read_excel('cvalsw1.xlsx')"
   ]
  },
  {
   "cell_type": "code",
   "execution_count": 13,
   "metadata": {},
   "outputs": [
    {
     "data": {
      "text/html": [
       "<div>\n",
       "<style scoped>\n",
       "    .dataframe tbody tr th:only-of-type {\n",
       "        vertical-align: middle;\n",
       "    }\n",
       "\n",
       "    .dataframe tbody tr th {\n",
       "        vertical-align: top;\n",
       "    }\n",
       "\n",
       "    .dataframe thead th {\n",
       "        text-align: right;\n",
       "    }\n",
       "</style>\n",
       "<table border=\"1\" class=\"dataframe\">\n",
       "  <thead>\n",
       "    <tr style=\"text-align: right;\">\n",
       "      <th></th>\n",
       "      <th>ill</th>\n",
       "      <th>vp</th>\n",
       "      <th>wb</th>\n",
       "      <th>sq</th>\n",
       "      <th>r</th>\n",
       "      <th>g</th>\n",
       "      <th>b</th>\n",
       "    </tr>\n",
       "  </thead>\n",
       "  <tbody>\n",
       "    <tr>\n",
       "      <th>0</th>\n",
       "      <td>1</td>\n",
       "      <td>1</td>\n",
       "      <td>1.0</td>\n",
       "      <td>w</td>\n",
       "      <td>213.0</td>\n",
       "      <td>212</td>\n",
       "      <td>242</td>\n",
       "    </tr>\n",
       "    <tr>\n",
       "      <th>1</th>\n",
       "      <td>1</td>\n",
       "      <td>1</td>\n",
       "      <td>NaN</td>\n",
       "      <td>m</td>\n",
       "      <td>254.0</td>\n",
       "      <td>146</td>\n",
       "      <td>182</td>\n",
       "    </tr>\n",
       "    <tr>\n",
       "      <th>2</th>\n",
       "      <td>1</td>\n",
       "      <td>1</td>\n",
       "      <td>NaN</td>\n",
       "      <td>c</td>\n",
       "      <td>0.6</td>\n",
       "      <td>172</td>\n",
       "      <td>223</td>\n",
       "    </tr>\n",
       "    <tr>\n",
       "      <th>3</th>\n",
       "      <td>1</td>\n",
       "      <td>1</td>\n",
       "      <td>NaN</td>\n",
       "      <td>y</td>\n",
       "      <td>243.0</td>\n",
       "      <td>227</td>\n",
       "      <td>157</td>\n",
       "    </tr>\n",
       "    <tr>\n",
       "      <th>4</th>\n",
       "      <td>1</td>\n",
       "      <td>2</td>\n",
       "      <td>NaN</td>\n",
       "      <td>w</td>\n",
       "      <td>215.0</td>\n",
       "      <td>216</td>\n",
       "      <td>246</td>\n",
       "    </tr>\n",
       "  </tbody>\n",
       "</table>\n",
       "</div>"
      ],
      "text/plain": [
       "   ill  vp   wb sq      r    g    b\n",
       "0    1   1  1.0  w  213.0  212  242\n",
       "1    1   1  NaN  m  254.0  146  182\n",
       "2    1   1  NaN  c    0.6  172  223\n",
       "3    1   1  NaN  y  243.0  227  157\n",
       "4    1   2  NaN  w  215.0  216  246"
      ]
     },
     "execution_count": 13,
     "metadata": {},
     "output_type": "execute_result"
    }
   ],
   "source": [
    "df.head()"
   ]
  },
  {
   "cell_type": "code",
   "execution_count": 14,
   "metadata": {},
   "outputs": [],
   "source": [
    "# # linearize values.\n",
    "# def linearizeRows(row):\n",
    "#     row.r = \n",
    "# df.transform(linearizeRows, axis=1)"
   ]
  },
  {
   "cell_type": "code",
   "execution_count": 15,
   "metadata": {},
   "outputs": [],
   "source": [
    "df.r = np.power(df.r.values, gR)\n",
    "df.g = np.power(df.g.values, gG)\n",
    "df.b = np.power(df.b.values, gB)"
   ]
  },
  {
   "cell_type": "code",
   "execution_count": 16,
   "metadata": {},
   "outputs": [
    {
     "data": {
      "text/html": [
       "<div>\n",
       "<style scoped>\n",
       "    .dataframe tbody tr th:only-of-type {\n",
       "        vertical-align: middle;\n",
       "    }\n",
       "\n",
       "    .dataframe tbody tr th {\n",
       "        vertical-align: top;\n",
       "    }\n",
       "\n",
       "    .dataframe thead th {\n",
       "        text-align: right;\n",
       "    }\n",
       "</style>\n",
       "<table border=\"1\" class=\"dataframe\">\n",
       "  <thead>\n",
       "    <tr style=\"text-align: right;\">\n",
       "      <th></th>\n",
       "      <th>ill</th>\n",
       "      <th>vp</th>\n",
       "      <th>wb</th>\n",
       "      <th>sq</th>\n",
       "      <th>r</th>\n",
       "      <th>g</th>\n",
       "      <th>b</th>\n",
       "    </tr>\n",
       "  </thead>\n",
       "  <tbody>\n",
       "    <tr>\n",
       "      <th>0</th>\n",
       "      <td>1</td>\n",
       "      <td>1</td>\n",
       "      <td>1.0</td>\n",
       "      <td>w</td>\n",
       "      <td>4122.546067</td>\n",
       "      <td>3694.847698</td>\n",
       "      <td>2708.765383</td>\n",
       "    </tr>\n",
       "    <tr>\n",
       "      <th>1</th>\n",
       "      <td>1</td>\n",
       "      <td>1</td>\n",
       "      <td>NaN</td>\n",
       "      <td>m</td>\n",
       "      <td>5418.414485</td>\n",
       "      <td>2085.376271</td>\n",
       "      <td>1797.115755</td>\n",
       "    </tr>\n",
       "    <tr>\n",
       "      <th>2</th>\n",
       "      <td>1</td>\n",
       "      <td>1</td>\n",
       "      <td>NaN</td>\n",
       "      <td>c</td>\n",
       "      <td>0.452424</td>\n",
       "      <td>2681.248750</td>\n",
       "      <td>2407.881531</td>\n",
       "    </tr>\n",
       "    <tr>\n",
       "      <th>3</th>\n",
       "      <td>1</td>\n",
       "      <td>1</td>\n",
       "      <td>NaN</td>\n",
       "      <td>y</td>\n",
       "      <td>5058.464156</td>\n",
       "      <td>4103.252087</td>\n",
       "      <td>1452.669012</td>\n",
       "    </tr>\n",
       "    <tr>\n",
       "      <th>4</th>\n",
       "      <td>1</td>\n",
       "      <td>2</td>\n",
       "      <td>NaN</td>\n",
       "      <td>w</td>\n",
       "      <td>4182.803983</td>\n",
       "      <td>3802.295681</td>\n",
       "      <td>2773.473679</td>\n",
       "    </tr>\n",
       "  </tbody>\n",
       "</table>\n",
       "</div>"
      ],
      "text/plain": [
       "   ill  vp   wb sq            r            g            b\n",
       "0    1   1  1.0  w  4122.546067  3694.847698  2708.765383\n",
       "1    1   1  NaN  m  5418.414485  2085.376271  1797.115755\n",
       "2    1   1  NaN  c     0.452424  2681.248750  2407.881531\n",
       "3    1   1  NaN  y  5058.464156  4103.252087  1452.669012\n",
       "4    1   2  NaN  w  4182.803983  3802.295681  2773.473679"
      ]
     },
     "execution_count": 16,
     "metadata": {},
     "output_type": "execute_result"
    }
   ],
   "source": [
    "df.head()"
   ]
  },
  {
   "cell_type": "code",
   "execution_count": 17,
   "metadata": {},
   "outputs": [],
   "source": [
    "# # normalize values.\n",
    "def normalizeRows(row):\n",
    "    total = row.r + row.g + row.b\n",
    "    row.r = row.r / total\n",
    "    row.g = row.g / total\n",
    "    row.b = row.b / total\n",
    "#     print(row.sq)\n",
    "    if row.sq == 'w':\n",
    "        row.sq = 'white'\n",
    "    elif row.sq == 'c':\n",
    "        row.sq = 'cyan'\n",
    "    elif row.sq == 'm':\n",
    "        row.sq = 'magenta'\n",
    "    else:\n",
    "        row.sq = 'yellow'\n",
    "#     print(row.sq)\n",
    "        \n",
    "    return row\n",
    "df = df.transform(normalizeRows, axis=1)"
   ]
  },
  {
   "cell_type": "code",
   "execution_count": 18,
   "metadata": {},
   "outputs": [
    {
     "data": {
      "text/html": [
       "<div>\n",
       "<style scoped>\n",
       "    .dataframe tbody tr th:only-of-type {\n",
       "        vertical-align: middle;\n",
       "    }\n",
       "\n",
       "    .dataframe tbody tr th {\n",
       "        vertical-align: top;\n",
       "    }\n",
       "\n",
       "    .dataframe thead th {\n",
       "        text-align: right;\n",
       "    }\n",
       "</style>\n",
       "<table border=\"1\" class=\"dataframe\">\n",
       "  <thead>\n",
       "    <tr style=\"text-align: right;\">\n",
       "      <th></th>\n",
       "      <th>ill</th>\n",
       "      <th>vp</th>\n",
       "      <th>wb</th>\n",
       "      <th>sq</th>\n",
       "      <th>r</th>\n",
       "      <th>g</th>\n",
       "      <th>b</th>\n",
       "    </tr>\n",
       "  </thead>\n",
       "  <tbody>\n",
       "    <tr>\n",
       "      <th>0</th>\n",
       "      <td>1</td>\n",
       "      <td>1</td>\n",
       "      <td>1.0</td>\n",
       "      <td>white</td>\n",
       "      <td>0.391648</td>\n",
       "      <td>0.351016</td>\n",
       "      <td>0.257337</td>\n",
       "    </tr>\n",
       "    <tr>\n",
       "      <th>1</th>\n",
       "      <td>1</td>\n",
       "      <td>1</td>\n",
       "      <td>NaN</td>\n",
       "      <td>magenta</td>\n",
       "      <td>0.582568</td>\n",
       "      <td>0.224212</td>\n",
       "      <td>0.193219</td>\n",
       "    </tr>\n",
       "    <tr>\n",
       "      <th>2</th>\n",
       "      <td>1</td>\n",
       "      <td>1</td>\n",
       "      <td>NaN</td>\n",
       "      <td>cyan</td>\n",
       "      <td>0.000089</td>\n",
       "      <td>0.526811</td>\n",
       "      <td>0.473100</td>\n",
       "    </tr>\n",
       "    <tr>\n",
       "      <th>3</th>\n",
       "      <td>1</td>\n",
       "      <td>1</td>\n",
       "      <td>NaN</td>\n",
       "      <td>yellow</td>\n",
       "      <td>0.476567</td>\n",
       "      <td>0.386575</td>\n",
       "      <td>0.136859</td>\n",
       "    </tr>\n",
       "    <tr>\n",
       "      <th>4</th>\n",
       "      <td>1</td>\n",
       "      <td>2</td>\n",
       "      <td>NaN</td>\n",
       "      <td>white</td>\n",
       "      <td>0.388788</td>\n",
       "      <td>0.353420</td>\n",
       "      <td>0.257792</td>\n",
       "    </tr>\n",
       "  </tbody>\n",
       "</table>\n",
       "</div>"
      ],
      "text/plain": [
       "   ill  vp   wb       sq         r         g         b\n",
       "0    1   1  1.0    white  0.391648  0.351016  0.257337\n",
       "1    1   1  NaN  magenta  0.582568  0.224212  0.193219\n",
       "2    1   1  NaN     cyan  0.000089  0.526811  0.473100\n",
       "3    1   1  NaN   yellow  0.476567  0.386575  0.136859\n",
       "4    1   2  NaN    white  0.388788  0.353420  0.257792"
      ]
     },
     "execution_count": 18,
     "metadata": {},
     "output_type": "execute_result"
    }
   ],
   "source": [
    "df.head()"
   ]
  },
  {
   "cell_type": "code",
   "execution_count": 20,
   "metadata": {},
   "outputs": [
    {
     "data": {
      "image/png": "[encoded data removed]",
      "text/plain": [
       "<Figure size 576x576 with 1 Axes>"
      ]
     },
     "metadata": {
      "needs_background": "light"
     },
     "output_type": "display_data"
    }
   ],
   "source": [
    "plt.figure(figsize=(8, 8))\n",
    "plt.rcParams['axes.facecolor'] = '#f9f9f9'\n",
    "plt.grid(color='#aaaaaa')\n",
    "palette = {'white':'black', 'magenta':'magenta', 'yellow': 'yellow', 'cyan': 'cyan'}\n",
    "ax = sns.scatterplot(df.r, df.g,  style=df.ill, hue=df.sq, markers={1:'X', 2:'o', 3:'v'}, palette=palette, s=100)\n",
    "# plt.xlabel = 'R/(R+G+B)'\n",
    "ax.set(xlabel='R/(R+G+B)', ylabel='G/(R+G+B)')\n",
    "plt.show()"
   ]
  },
  {
   "cell_type": "code",
   "execution_count": null,
   "metadata": {},
   "outputs": [],
   "source": []
  },
  {
   "cell_type": "code",
   "execution_count": null,
   "metadata": {},
   "outputs": [],
   "source": []
  },
  {
   "cell_type": "code",
   "execution_count": null,
   "metadata": {},
   "outputs": [],
   "source": []
  }
 ],
 "metadata": {
  "kernelspec": {
   "display_name": "Python 3.6.6 64-bit",
   "language": "python",
   "name": "python36664bit88118593fe5143aebacac9b7384e5f5c"
  },
  "language_info": {
   "codemirror_mode": {
    "name": "ipython",
    "version": 3
   },
   "file_extension": ".py",
   "mimetype": "text/x-python",
   "name": "python",
   "nbconvert_exporter": "python",
   "pygments_lexer": "ipython3",
   "version": "3.6.6"
  }
 },
 "nbformat": 4,
 "nbformat_minor": 4
}
