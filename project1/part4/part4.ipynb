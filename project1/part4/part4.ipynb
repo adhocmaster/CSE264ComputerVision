{
 "cells": [
  {
   "cell_type": "code",
   "execution_count": 1,
   "metadata": {},
   "outputs": [
    {
     "name": "stdout",
     "output_type": "stream",
     "text": [
      "Using matplotlib backend: Qt5Agg\n"
     ]
    }
   ],
   "source": [
    "import cv2\n",
    "import numpy as np\n",
    "import seaborn as sns\n",
    "import matplotlib.pyplot as plt\n",
    "import math\n",
    "from sklearn.linear_model import LinearRegression\n",
    "sns.set()\n",
    "# sns.set(rc={'axes.facecolor':'white', 'figure.facecolor':'#cccccc'})\n",
    "%matplotlib auto\n",
    "from PIL import Image\n",
    "import pandas as pd"
   ]
  },
  {
   "cell_type": "code",
   "execution_count": 2,
   "metadata": {},
   "outputs": [],
   "source": [
    "df = pd.read_excel('cvals.xlsx')"
   ]
  },
  {
   "cell_type": "code",
   "execution_count": 3,
   "metadata": {},
   "outputs": [
    {
     "data": {
      "text/html": [
       "<div>\n",
       "<style scoped>\n",
       "    .dataframe tbody tr th:only-of-type {\n",
       "        vertical-align: middle;\n",
       "    }\n",
       "\n",
       "    .dataframe tbody tr th {\n",
       "        vertical-align: top;\n",
       "    }\n",
       "\n",
       "    .dataframe thead th {\n",
       "        text-align: right;\n",
       "    }\n",
       "</style>\n",
       "<table border=\"1\" class=\"dataframe\">\n",
       "  <thead>\n",
       "    <tr style=\"text-align: right;\">\n",
       "      <th></th>\n",
       "      <th>ill</th>\n",
       "      <th>vp</th>\n",
       "      <th>wb</th>\n",
       "      <th>sq</th>\n",
       "      <th>r</th>\n",
       "      <th>g</th>\n",
       "      <th>b</th>\n",
       "    </tr>\n",
       "  </thead>\n",
       "  <tbody>\n",
       "    <tr>\n",
       "      <th>0</th>\n",
       "      <td>1</td>\n",
       "      <td>1</td>\n",
       "      <td>0.0</td>\n",
       "      <td>w</td>\n",
       "      <td>186.0</td>\n",
       "      <td>188</td>\n",
       "      <td>216</td>\n",
       "    </tr>\n",
       "    <tr>\n",
       "      <th>1</th>\n",
       "      <td>1</td>\n",
       "      <td>1</td>\n",
       "      <td>NaN</td>\n",
       "      <td>m</td>\n",
       "      <td>189.0</td>\n",
       "      <td>95</td>\n",
       "      <td>128</td>\n",
       "    </tr>\n",
       "    <tr>\n",
       "      <th>2</th>\n",
       "      <td>1</td>\n",
       "      <td>1</td>\n",
       "      <td>NaN</td>\n",
       "      <td>c</td>\n",
       "      <td>18.0</td>\n",
       "      <td>132</td>\n",
       "      <td>173</td>\n",
       "    </tr>\n",
       "    <tr>\n",
       "      <th>3</th>\n",
       "      <td>1</td>\n",
       "      <td>1</td>\n",
       "      <td>NaN</td>\n",
       "      <td>y</td>\n",
       "      <td>206.0</td>\n",
       "      <td>195</td>\n",
       "      <td>136</td>\n",
       "    </tr>\n",
       "    <tr>\n",
       "      <th>4</th>\n",
       "      <td>1</td>\n",
       "      <td>2</td>\n",
       "      <td>NaN</td>\n",
       "      <td>w</td>\n",
       "      <td>178.0</td>\n",
       "      <td>183</td>\n",
       "      <td>217</td>\n",
       "    </tr>\n",
       "  </tbody>\n",
       "</table>\n",
       "</div>"
      ],
      "text/plain": [
       "   ill  vp   wb sq      r    g    b\n",
       "0    1   1  0.0  w  186.0  188  216\n",
       "1    1   1  NaN  m  189.0   95  128\n",
       "2    1   1  NaN  c   18.0  132  173\n",
       "3    1   1  NaN  y  206.0  195  136\n",
       "4    1   2  NaN  w  178.0  183  217"
      ]
     },
     "execution_count": 3,
     "metadata": {},
     "output_type": "execute_result"
    }
   ],
   "source": [
    "df.head()"
   ]
  },
  {
   "cell_type": "code",
   "execution_count": 46,
   "metadata": {},
   "outputs": [],
   "source": [
    "# white points for each illuminant\n",
    "# D * rawPicture = fixed picture\n",
    "def getDByWhitePatch(df, ill):\n",
    "    illDf = df[df.ill == ill ]\n",
    "    illDf = illDf[illDf.sq == 'w']\n",
    "    sumR = illDf.r.sum()\n",
    "    sumG = illDf.g.sum()\n",
    "    sumB = illDf.b.sum()\n",
    "    R = sumR / illDf.shape[0]\n",
    "    G = sumG / illDf.shape[0]\n",
    "    B = sumB / illDf.shape[0]\n",
    "    \n",
    "    # we got the RGB in white. Fixed images have 255, 255, 255 for all the channels.\n",
    "    D = np.zeros([3, 3])\n",
    "    \n",
    "    D[0, 0] = 255 / R\n",
    "    D[1, 1] = 255 / G\n",
    "    D[2, 2] = 255 / B\n",
    "    \n",
    "    return D\n",
    "\n",
    "def getDByGrayWorld(df, ill):\n",
    "    # gray world has rgb(128,128,128)\n",
    "    illDf = df[df.ill == ill ]\n",
    "    sumR = illDf.r.sum()\n",
    "    sumG = illDf.g.sum()\n",
    "    sumB = illDf.b.sum()\n",
    "    R = sumR / illDf.shape[0]\n",
    "    G = sumG / illDf.shape[0]\n",
    "    B = sumB / illDf.shape[0]\n",
    "    \n",
    "    # we got the RGB in white. Fixed images have rgb(128,128,128) for all the channels.\n",
    "    D = np.zeros([3, 3])\n",
    "    \n",
    "    D[0, 0] = 128 / R\n",
    "    D[1, 1] = 128 / G\n",
    "    D[2, 2] = 128 / B\n",
    "    \n",
    "    return D\n",
    "\n",
    "\n",
    "def getMaxRGB(df):\n",
    "    \n",
    "    r, g, b = 0, 0 ,0 # holds values for maxBrightness color\n",
    "    maxBrightness = 0\n",
    "    \n",
    "    for row in df.itertuples():\n",
    "        brightness = row.r + row.g + row.b \n",
    "        if brightness > maxBrightness: \n",
    "            maxBrightness = brightness\n",
    "            r = row.r\n",
    "            g = row.g\n",
    "            b = row.b\n",
    "    \n",
    "    return r, g, b\n",
    "        \n",
    "    \n",
    "def getDByWhiteWorld(df, ill):\n",
    "    # gray world has rgb(128,128,128)\n",
    "    illDf = df[df.ill == ill ]\n",
    "    \n",
    "    R, G, B = getMaxRGB(illDf)\n",
    "    \n",
    "    print(f'R: {R}, G: {G}, B: {B}')\n",
    "    \n",
    "    # we got the RGB in white. Fixed images have rgb(128,128,128) for all the channels.\n",
    "    D = np.zeros([3, 3])\n",
    "    \n",
    "    D[0, 0] = 255 / R\n",
    "    D[1, 1] = 255 / G\n",
    "    D[2, 2] = 255 / B\n",
    "    \n",
    "    return D\n",
    "    \n",
    "    "
   ]
  },
  {
   "cell_type": "code",
   "execution_count": 47,
   "metadata": {},
   "outputs": [
    {
     "name": "stdout",
     "output_type": "stream",
     "text": [
      "R: 195.0, G: 196, B: 224\n",
      "R: 179.0, G: 198, B: 238\n",
      "R: 151.0, G: 204, B: 253\n"
     ]
    }
   ],
   "source": [
    "D1_WP = getDByWhitePatch(df, 1)\n",
    "D2_WP = getDByWhitePatch(df, 2)\n",
    "D3_WP = getDByWhitePatch(df, 3)\n",
    "\n",
    "D1_GW = getDByGrayWorld(df, 1)\n",
    "D2_GW = getDByGrayWorld(df, 2)\n",
    "D3_GW = getDByGrayWorld(df, 3)\n",
    "\n",
    "D1_WW = getDByWhiteWorld(df, 1)\n",
    "D2_WW = getDByWhiteWorld(df, 2)\n",
    "D3_WW = getDByWhiteWorld(df, 3)"
   ]
  },
  {
   "cell_type": "code",
   "execution_count": 48,
   "metadata": {},
   "outputs": [
    {
     "data": {
      "text/plain": [
       "array([[1.37096774, 0.        , 0.        ],\n",
       "       [0.        , 1.34351949, 0.        ],\n",
       "       [0.        , 0.        , 1.15803815]])"
      ]
     },
     "execution_count": 48,
     "metadata": {},
     "output_type": "execute_result"
    }
   ],
   "source": [
    "D1_WP"
   ]
  },
  {
   "cell_type": "code",
   "execution_count": 49,
   "metadata": {},
   "outputs": [
    {
     "data": {
      "text/plain": [
       "array([[0.83344185, 0.        , 0.        ],\n",
       "       [0.        , 0.7992507 , 0.        ],\n",
       "       [0.        , 0.        , 0.73247496]])"
      ]
     },
     "execution_count": 49,
     "metadata": {},
     "output_type": "execute_result"
    }
   ],
   "source": [
    "D1_GW"
   ]
  },
  {
   "cell_type": "code",
   "execution_count": 50,
   "metadata": {},
   "outputs": [
    {
     "data": {
      "text/plain": [
       "array([[1.30769231, 0.        , 0.        ],\n",
       "       [0.        , 1.30102041, 0.        ],\n",
       "       [0.        , 0.        , 1.13839286]])"
      ]
     },
     "execution_count": 50,
     "metadata": {},
     "output_type": "execute_result"
    }
   ],
   "source": [
    "D1_WW"
   ]
  },
  {
   "cell_type": "code",
   "execution_count": 29,
   "metadata": {},
   "outputs": [
    {
     "data": {
      "text/html": [
       "<div>\n",
       "<style scoped>\n",
       "    .dataframe tbody tr th:only-of-type {\n",
       "        vertical-align: middle;\n",
       "    }\n",
       "\n",
       "    .dataframe tbody tr th {\n",
       "        vertical-align: top;\n",
       "    }\n",
       "\n",
       "    .dataframe thead th {\n",
       "        text-align: right;\n",
       "    }\n",
       "</style>\n",
       "<table border=\"1\" class=\"dataframe\">\n",
       "  <thead>\n",
       "    <tr style=\"text-align: right;\">\n",
       "      <th></th>\n",
       "      <th>ill</th>\n",
       "      <th>vp</th>\n",
       "      <th>wb</th>\n",
       "      <th>sq</th>\n",
       "      <th>r</th>\n",
       "      <th>g</th>\n",
       "      <th>b</th>\n",
       "    </tr>\n",
       "  </thead>\n",
       "  <tbody>\n",
       "    <tr>\n",
       "      <th>0</th>\n",
       "      <td>1</td>\n",
       "      <td>1</td>\n",
       "      <td>0.0</td>\n",
       "      <td>w</td>\n",
       "      <td>186.0</td>\n",
       "      <td>188</td>\n",
       "      <td>216</td>\n",
       "    </tr>\n",
       "    <tr>\n",
       "      <th>4</th>\n",
       "      <td>1</td>\n",
       "      <td>2</td>\n",
       "      <td>NaN</td>\n",
       "      <td>w</td>\n",
       "      <td>178.0</td>\n",
       "      <td>183</td>\n",
       "      <td>217</td>\n",
       "    </tr>\n",
       "    <tr>\n",
       "      <th>8</th>\n",
       "      <td>1</td>\n",
       "      <td>3</td>\n",
       "      <td>NaN</td>\n",
       "      <td>w</td>\n",
       "      <td>195.0</td>\n",
       "      <td>196</td>\n",
       "      <td>224</td>\n",
       "    </tr>\n",
       "    <tr>\n",
       "      <th>12</th>\n",
       "      <td>1</td>\n",
       "      <td>4</td>\n",
       "      <td>NaN</td>\n",
       "      <td>w</td>\n",
       "      <td>184.0</td>\n",
       "      <td>189</td>\n",
       "      <td>221</td>\n",
       "    </tr>\n",
       "    <tr>\n",
       "      <th>16</th>\n",
       "      <td>1</td>\n",
       "      <td>5</td>\n",
       "      <td>NaN</td>\n",
       "      <td>w</td>\n",
       "      <td>187.0</td>\n",
       "      <td>193</td>\n",
       "      <td>223</td>\n",
       "    </tr>\n",
       "  </tbody>\n",
       "</table>\n",
       "</div>"
      ],
      "text/plain": [
       "    ill  vp   wb sq      r    g    b\n",
       "0     1   1  0.0  w  186.0  188  216\n",
       "4     1   2  NaN  w  178.0  183  217\n",
       "8     1   3  NaN  w  195.0  196  224\n",
       "12    1   4  NaN  w  184.0  189  221\n",
       "16    1   5  NaN  w  187.0  193  223"
      ]
     },
     "execution_count": 29,
     "metadata": {},
     "output_type": "execute_result"
    }
   ],
   "source": [
    "illDf"
   ]
  },
  {
   "cell_type": "code",
   "execution_count": null,
   "metadata": {},
   "outputs": [],
   "source": []
  }
 ],
 "metadata": {
  "kernelspec": {
   "display_name": "Python 3.6.6 64-bit",
   "language": "python",
   "name": "python36664bit88118593fe5143aebacac9b7384e5f5c"
  },
  "language_info": {
   "codemirror_mode": {
    "name": "ipython",
    "version": 3
   },
   "file_extension": ".py",
   "mimetype": "text/x-python",
   "name": "python",
   "nbconvert_exporter": "python",
   "pygments_lexer": "ipython3",
   "version": "3.6.6"
  }
 },
 "nbformat": 4,
 "nbformat_minor": 2
}
