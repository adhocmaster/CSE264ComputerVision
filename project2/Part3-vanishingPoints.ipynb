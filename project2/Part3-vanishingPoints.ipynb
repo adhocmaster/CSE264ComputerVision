{
 "cells": [
  {
   "cell_type": "code",
   "execution_count": 1,
   "metadata": {},
   "outputs": [],
   "source": [
    "# Part 3: Find vanishing directions"
   ]
  },
  {
   "cell_type": "code",
   "execution_count": 12,
   "metadata": {},
   "outputs": [],
   "source": [
    "import numpy as np\n",
    "import cv2\n",
    "import sys"
   ]
  },
  {
   "cell_type": "code",
   "execution_count": 13,
   "metadata": {},
   "outputs": [],
   "source": [
    "fixedMtx = np.array([[982.09741211,   0.        , 609.0936327 ],\n",
    "       [  0.        , 973.01837158, 455.94049369],\n",
    "       [  0.        ,   0.        ,   1.        ]])"
   ]
  },
  {
   "cell_type": "code",
   "execution_count": 14,
   "metadata": {},
   "outputs": [],
   "source": [
    "horizontalLines = np.load('horizontalLines.npy')\n",
    "verticalLines = np.load('verticalLines.npy')"
   ]
  },
  {
   "cell_type": "code",
   "execution_count": 15,
   "metadata": {},
   "outputs": [],
   "source": [
    "KInverse = np.linalg.inv(fixedMtx)\n"
   ]
  },
  {
   "cell_type": "code",
   "execution_count": 21,
   "metadata": {},
   "outputs": [],
   "source": [
    "def getCameraPoint(pixelPoint):\n",
    "    return np.dot(KInverse,np.array([pixelPoint[0], pixelPoint[1], 1])) # K-1 * [x y 1] \n",
    "\n",
    "\n",
    "# points on pixel frame [[x y] [ x y]]\n",
    "def getLeverVector(points):\n",
    "    # n = pc1 x pc2\n",
    "    pc1 = getCameraPoint(points[0])\n",
    "    pc2 = getCameraPoint(points[1])\n",
    "    n = np.cross(pc1, pc2)\n",
    "    return n\n",
    "#     return n / np.linalg.norm(n) // don't need to normalize as it doesn't have any effect.\n",
    "\n",
    "\n",
    "# n1, n2 = lever vectors of two parallel lines.\n",
    "def getVanishingDirection(n1, n2):\n",
    "    v = np.cross(n1, n2)\n",
    "    return v / np.linalg.norm(v)\n",
    "    \n",
    "\n",
    "# n is a lever vector and v is vanishing direction computed from two lever vectors != n\n",
    "def getResidual(n, v):\n",
    "    r = np.linalg.norm(np.dot(n, v))\n",
    "    return r\n",
    "\n",
    "\n",
    "# pre-computed so that we don't need to recompute\n",
    "def getAllLeverVectors(lines):\n",
    "    \n",
    "    leverVectors = []\n",
    "    for lineIndex in range(lines.shape[0]):\n",
    "        leverVectors.append(getLeverVector(lines[lineIndex]))\n",
    "    \n",
    "    return leverVectors\n",
    "        \n",
    "    \n",
    "def getVPwithMinimalMedianResidualError(lines):\n",
    "    \n",
    "    leverVectors = getAllLeverVectors(lines)\n",
    "    medianResiduals = []\n",
    "    minResidual = sys.float_info.max\n",
    "    minI = None\n",
    "    minJ = None\n",
    "    minM = None\n",
    "    minV = None\n",
    "    \n",
    "    for m in range(0, 100):\n",
    "        \n",
    "        # 1. Get two random lines, their lever vectors, and vanishing direction\n",
    "        lineIndices = np.random.randint(low = 0, high = lines.shape[0], size = 2).tolist()\n",
    "        i = lineIndices[0]\n",
    "        j = lineIndices[1]\n",
    "        n1 = leverVectors[i]\n",
    "        n2 = leverVectors[j]\n",
    "        v = getVanishingDirection(n1, n2)\n",
    "        \n",
    "        # compute residual between the vanishining direction and other lever vectors. Ideally it should be close to 0\n",
    "        residuals = []\n",
    "        for k in range(lines.shape[0]):\n",
    "            if k != i and k != j:\n",
    "                nk = leverVectors[k]\n",
    "                residuals.append( getResidual(nk, v) )\n",
    "        \n",
    "        medResidual = np.median(np.array(residuals))\n",
    "        medianResiduals.append(medResidual)\n",
    "        \n",
    "        if medResidual < minResidual:\n",
    "            minResidual = medResidual\n",
    "            minM = m\n",
    "            minI = i\n",
    "            minJ = j\n",
    "            minV = v\n",
    "            \n",
    "    \n",
    "    print(f'minimum residual: {minResidual}')\n",
    "    return minV\n",
    "    \n"
   ]
  },
  {
   "cell_type": "code",
   "execution_count": 23,
   "metadata": {},
   "outputs": [
    {
     "name": "stdout",
     "output_type": "stream",
     "text": [
      "minimum residual: 0.019776220347348408\n",
      "minimum residual: 0.0031349455091387057\n"
     ]
    },
    {
     "name": "stderr",
     "output_type": "stream",
     "text": [
      "C:\\Users\\adhoc\\Anaconda3\\envs\\opencv3\\lib\\site-packages\\ipykernel_launcher.py:18: RuntimeWarning: invalid value encountered in true_divide\n"
     ]
    }
   ],
   "source": [
    "horVP = getVPwithMinimalMedianResidualError(horizontalLines)\n",
    "vertVP = getVPwithMinimalMedianResidualError(verticalLines)    "
   ]
  },
  {
   "cell_type": "code",
   "execution_count": 24,
   "metadata": {},
   "outputs": [
    {
     "data": {
      "text/plain": [
       "-0.22867823485508093"
      ]
     },
     "execution_count": 24,
     "metadata": {},
     "output_type": "execute_result"
    }
   ],
   "source": [
    "np.dot(horVP, vertVP) # should be close to 0.\n",
    "    "
   ]
  },
  {
   "cell_type": "code",
   "execution_count": 25,
   "metadata": {},
   "outputs": [],
   "source": [
    "transversalVP = np.cross(horVP, vertVP)\n",
    "transversalVP = transversalVP / np.linalg.norm(transversalVP)"
   ]
  },
  {
   "cell_type": "code",
   "execution_count": 26,
   "metadata": {},
   "outputs": [
    {
     "data": {
      "text/plain": [
       "array([-0.91223623,  0.0552812 , -0.40591754])"
      ]
     },
     "execution_count": 26,
     "metadata": {},
     "output_type": "execute_result"
    }
   ],
   "source": [
    "transversalVP"
   ]
  },
  {
   "cell_type": "code",
   "execution_count": null,
   "metadata": {},
   "outputs": [],
   "source": []
  }
 ],
 "metadata": {
  "kernelspec": {
   "display_name": "Python 3",
   "language": "python",
   "name": "python3"
  },
  "language_info": {
   "codemirror_mode": {
    "name": "ipython",
    "version": 3
   },
   "file_extension": ".py",
   "mimetype": "text/x-python",
   "name": "python",
   "nbconvert_exporter": "python",
   "pygments_lexer": "ipython3",
   "version": "3.6.10"
  }
 },
 "nbformat": 4,
 "nbformat_minor": 4
}
