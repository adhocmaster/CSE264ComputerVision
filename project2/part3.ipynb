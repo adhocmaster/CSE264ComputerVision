{
 "cells": [
  {
   "cell_type": "code",
   "execution_count": 3,
   "metadata": {},
   "outputs": [],
   "source": [
    "import numpy as np\n",
    "import cv2\n",
    "from PIL import Image, ImageDraw"
   ]
  },
  {
   "cell_type": "code",
   "execution_count": null,
   "metadata": {},
   "outputs": [],
   "source": [
    "\"\"\"Run the draw tool to get points for parallel lines. \n",
    "This may not work on cloud. If it doesn't download the project and run it in local computer\n",
    "ESC to quit the drawing tool and save the points.\n",
    "Parameters: \n",
    "    1 path of the image relative to images folder\n",
    "    2 name of the output file. default is buildingLines. Should be overrided if to be used for different sets of points.\n",
    "output:\n",
    "    an npy file with coordinates for lines.\"\"\"\n",
    "%run .\\drawTool.py buildingUndistorted.jpg horizontalLines"
   ]
  },
  {
   "cell_type": "code",
   "execution_count": 4,
   "metadata": {},
   "outputs": [
    {
     "name": "stdout",
     "output_type": "stream",
     "text": [
      "Image H and W 804 1086\n",
      "TOP_LEFT  (275, 140)\n",
      "BOTTOM_RIGHT (303, 701)\n",
      "TOP_LEFT  (563, 195)\n",
      "BOTTOM_RIGHT (575, 577)\n",
      "TOP_LEFT  (885, 204)\n",
      "BOTTOM_RIGHT (883, 522)\n",
      "saved line points in verticalLines.npy\n"
     ]
    }
   ],
   "source": [
    "%run .\\drawTool.py buildingUndistorted.jpg verticalLines"
   ]
  },
  {
   "cell_type": "code",
   "execution_count": 5,
   "metadata": {},
   "outputs": [],
   "source": [
    "horizontalLines = np.load('horizontalLines.npy')\n",
    "verticalLines = np.load('verticalLines.npy')"
   ]
  },
  {
   "cell_type": "code",
   "execution_count": 6,
   "metadata": {},
   "outputs": [
    {
     "data": {
      "text/plain": [
       "array([[[281, 254],\n",
       "        [546, 265]],\n",
       "\n",
       "       [[274, 137],\n",
       "        [542, 182]],\n",
       "\n",
       "       [[  3, 121],\n",
       "        [240,  55]],\n",
       "\n",
       "       [[  4, 149],\n",
       "        [239,  97]]])"
      ]
     },
     "execution_count": 6,
     "metadata": {},
     "output_type": "execute_result"
    }
   ],
   "source": [
    "horizontalLines"
   ]
  },
  {
   "cell_type": "code",
   "execution_count": 7,
   "metadata": {},
   "outputs": [
    {
     "data": {
      "text/plain": [
       "array([[[275, 140],\n",
       "        [303, 701]],\n",
       "\n",
       "       [[563, 195],\n",
       "        [575, 577]],\n",
       "\n",
       "       [[885, 204],\n",
       "        [883, 522]]])"
      ]
     },
     "execution_count": 7,
     "metadata": {},
     "output_type": "execute_result"
    }
   ],
   "source": [
    "verticalLines"
   ]
  },
  {
   "cell_type": "code",
   "execution_count": 10,
   "metadata": {},
   "outputs": [],
   "source": [
    "# linePoints = [x y x y]\n",
    "def extendLineToEdges(linePoints, h, w):\n",
    "    \n",
    "    # y = mx + c\n",
    "    \n",
    "    m = (linePoints[1] - linePoints[3]) / (linePoints[0] - linePoints[2])\n",
    "    \n",
    "    c = linePoints[1] - m * linePoints[0]\n",
    "    \n",
    "    # the line can intersect any pair of edges, so we calculate them all.\n",
    "    x0 = -c/m\n",
    "    xH = (h-c) / m\n",
    "    y0 = c\n",
    "    yW = m*w + c\n",
    "    \n",
    "    newLinePoints = []\n",
    "    \n",
    "    if x0 >= 0 and x0 <= w:\n",
    "        newLinePoints.append(x0)\n",
    "        newLinePoints.append(0)\n",
    "    if xH >= 0 and xH <= w:\n",
    "        newLinePoints.append(xH)\n",
    "        newLinePoints.append(h)\n",
    "    if y0 >= 0 and y0 <= h:\n",
    "        newLinePoints.append(0)\n",
    "        newLinePoints.append(y0)\n",
    "    if yW >= 0 and yW <= h:\n",
    "        newLinePoints.append(w)\n",
    "        newLinePoints.append(yW)\n",
    "        \n",
    "    return newLinePoints\n",
    "    "
   ]
  },
  {
   "cell_type": "code",
   "execution_count": 19,
   "metadata": {},
   "outputs": [],
   "source": [
    "image = Image.open('images/buildingUndistorted.jpg')\n",
    "draw = ImageDraw.Draw(image)\n",
    "\n",
    "h = image.height\n",
    "w = image.width\n",
    "\n",
    "\n",
    "\n",
    "for rowIndex in range(horizontalLines.shape[0]):\n",
    "    line = [horizontalLines[rowIndex, 0, 0], horizontalLines[rowIndex, 0, 1], \n",
    "            horizontalLines[rowIndex, 1, 0], horizontalLines[rowIndex, 1, 1]]\n",
    "    draw.line(extendLineToEdges(line, h, w), fill='#00ff00', width = 3)\n",
    "    \n",
    "for rowIndex in range(verticalLines.shape[0]):\n",
    "    line = [verticalLines[rowIndex, 0, 0], verticalLines[rowIndex, 0, 1], \n",
    "            verticalLines[rowIndex, 1, 0], verticalLines[rowIndex, 1, 1]]\n",
    "    draw.line(extendLineToEdges(line, h, w), fill='#ff2211', width = 3)\n",
    "\n",
    "image.save('images/buildingUndistortedWithLines.jpg')"
   ]
  },
  {
   "cell_type": "code",
   "execution_count": 9,
   "metadata": {},
   "outputs": [
    {
     "data": {
      "text/plain": [
       "804"
      ]
     },
     "execution_count": 9,
     "metadata": {},
     "output_type": "execute_result"
    }
   ],
   "source": [
    "image.height"
   ]
  },
  {
   "cell_type": "code",
   "execution_count": null,
   "metadata": {},
   "outputs": [],
   "source": []
  }
 ],
 "metadata": {
  "kernelspec": {
   "display_name": "Python 3",
   "language": "python",
   "name": "python3"
  },
  "language_info": {
   "codemirror_mode": {
    "name": "ipython",
    "version": 3
   },
   "file_extension": ".py",
   "mimetype": "text/x-python",
   "name": "python",
   "nbconvert_exporter": "python",
   "pygments_lexer": "ipython3",
   "version": "3.6.10"
  }
 },
 "nbformat": 4,
 "nbformat_minor": 4
}
