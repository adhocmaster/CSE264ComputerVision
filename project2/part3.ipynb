{
 "cells": [
  {
   "cell_type": "code",
   "execution_count": 1,
   "metadata": {},
   "outputs": [],
   "source": [
    "# Part 3: Find bundles of parallel lines"
   ]
  },
  {
   "cell_type": "code",
   "execution_count": 2,
   "metadata": {},
   "outputs": [],
   "source": [
    "import numpy as np\n",
    "import cv2\n",
    "from PIL import Image, ImageDraw"
   ]
  },
  {
   "cell_type": "code",
   "execution_count": 9,
   "metadata": {},
   "outputs": [
    {
     "name": "stdout",
     "output_type": "stream",
     "text": [
      "Image H and W 804 1086\n",
      "TOP_LEFT  (621, 311)\n",
      "BOTTOM_RIGHT (719, 325)\n",
      "TOP_LEFT  (626, 425)\n",
      "BOTTOM_RIGHT (720, 430)\n",
      "TOP_LEFT  (628, 467)\n",
      "BOTTOM_RIGHT (721, 467)\n",
      "TOP_LEFT  (800, 712)\n",
      "BOTTOM_RIGHT (863, 695)\n",
      "TOP_LEFT  (813, 481)\n",
      "BOTTOM_RIGHT (898, 479)\n",
      "TOP_LEFT  (954, 434)\n",
      "BOTTOM_RIGHT (998, 436)\n",
      "TOP_LEFT  (957, 311)\n",
      "BOTTOM_RIGHT (994, 318)\n",
      "TOP_LEFT  (677, 151)\n",
      "BOTTOM_RIGHT (846, 201)\n",
      "TOP_LEFT  (738, 60)\n",
      "BOTTOM_RIGHT (904, 129)\n",
      "saved line points in horizontalLines.npy\n"
     ]
    }
   ],
   "source": [
    "\"\"\"Run the draw tool to get points for parallel lines. \n",
    "This may not work on cloud. If it doesn't download the project and run it in local computer\n",
    "ESC to quit the drawing tool and save the points.\n",
    "Parameters: \n",
    "    1 path of the image relative to images folder\n",
    "    2 name of the output file. default is buildingLines. Should be overrided if to be used for different sets of points.\n",
    "output:\n",
    "    an npy file with coordinates for lines.\"\"\"\n",
    "%run .\\drawTool.py buildingUndistorted.jpg horizontalLines"
   ]
  },
  {
   "cell_type": "code",
   "execution_count": 15,
   "metadata": {},
   "outputs": [
    {
     "name": "stdout",
     "output_type": "stream",
     "text": [
      "Image H and W 804 1086\n",
      "TOP_LEFT  (734, 276)\n",
      "BOTTOM_RIGHT (740, 471)\n",
      "TOP_LEFT  (804, 296)\n",
      "BOTTOM_RIGHT (810, 453)\n",
      "TOP_LEFT  (888, 314)\n",
      "BOTTOM_RIGHT (894, 458)\n",
      "TOP_LEFT  (945, 324)\n",
      "BOTTOM_RIGHT (951, 459)\n",
      "TOP_LEFT  (1007, 326)\n",
      "BOTTOM_RIGHT (1012, 460)\n",
      "TOP_LEFT  (1044, 337)\n",
      "BOTTOM_RIGHT (1051, 455)\n",
      "saved line points in verticalLines.npy\n"
     ]
    }
   ],
   "source": [
    "%run .\\drawTool.py buildingUndistorted.jpg verticalLines"
   ]
  },
  {
   "cell_type": "code",
   "execution_count": 16,
   "metadata": {},
   "outputs": [
    {
     "name": "stdout",
     "output_type": "stream",
     "text": [
      "[[[621 311]\n",
      "  [719 325]]\n",
      "\n",
      " [[626 425]\n",
      "  [720 430]]\n",
      "\n",
      " [[628 467]\n",
      "  [721 467]]\n",
      "\n",
      " [[800 712]\n",
      "  [863 695]]\n",
      "\n",
      " [[813 481]\n",
      "  [898 479]]\n",
      "\n",
      " [[954 434]\n",
      "  [998 436]]\n",
      "\n",
      " [[957 311]\n",
      "  [994 318]]\n",
      "\n",
      " [[677 151]\n",
      "  [846 201]]\n",
      "\n",
      " [[738  60]\n",
      "  [904 129]]]\n",
      "[[[ 734  276]\n",
      "  [ 740  471]]\n",
      "\n",
      " [[ 804  296]\n",
      "  [ 810  453]]\n",
      "\n",
      " [[ 888  314]\n",
      "  [ 894  458]]\n",
      "\n",
      " [[ 945  324]\n",
      "  [ 951  459]]\n",
      "\n",
      " [[1007  326]\n",
      "  [1012  460]]\n",
      "\n",
      " [[1044  337]\n",
      "  [1051  455]]]\n"
     ]
    }
   ],
   "source": [
    "horizontalLines = np.load('horizontalLines.npy')\n",
    "verticalLines = np.load('verticalLines.npy')\n",
    "print(horizontalLines)\n",
    "print(verticalLines)"
   ]
  },
  {
   "cell_type": "code",
   "execution_count": 17,
   "metadata": {},
   "outputs": [],
   "source": [
    "# linePoints = [x y x y]\n",
    "def extendLineToEdges(linePoints, h, w):\n",
    "    \n",
    "    # y = mx + c\n",
    "    \n",
    "    m = (linePoints[1] - linePoints[3]) / (linePoints[0] - linePoints[2])\n",
    "    \n",
    "    c = linePoints[1] - m * linePoints[0]\n",
    "    \n",
    "    # the line can intersect any pair of edges, so we calculate them all.\n",
    "    x0 = -c/m\n",
    "    xH = (h-c) / m\n",
    "    y0 = c\n",
    "    yW = m*w + c\n",
    "    \n",
    "    newLinePoints = []\n",
    "    \n",
    "    if x0 >= 0 and x0 <= w:\n",
    "        newLinePoints.append(x0)\n",
    "        newLinePoints.append(0)\n",
    "    if xH >= 0 and xH <= w:\n",
    "        newLinePoints.append(xH)\n",
    "        newLinePoints.append(h)\n",
    "    if y0 >= 0 and y0 <= h:\n",
    "        newLinePoints.append(0)\n",
    "        newLinePoints.append(y0)\n",
    "    if yW >= 0 and yW <= h:\n",
    "        newLinePoints.append(w)\n",
    "        newLinePoints.append(yW)\n",
    "        \n",
    "    return newLinePoints\n",
    "    "
   ]
  },
  {
   "cell_type": "code",
   "execution_count": 18,
   "metadata": {},
   "outputs": [
    {
     "name": "stderr",
     "output_type": "stream",
     "text": [
      "C:\\Users\\adhoc\\Anaconda3\\envs\\opencv3\\lib\\site-packages\\ipykernel_launcher.py:11: RuntimeWarning: divide by zero encountered in double_scalars\n",
      "  # This is added back by InteractiveShellApp.init_path()\n",
      "C:\\Users\\adhoc\\Anaconda3\\envs\\opencv3\\lib\\site-packages\\ipykernel_launcher.py:12: RuntimeWarning: divide by zero encountered in double_scalars\n",
      "  if sys.path[0] == '':\n"
     ]
    }
   ],
   "source": [
    "image = Image.open('images/buildingUndistorted.jpg')\n",
    "draw = ImageDraw.Draw(image)\n",
    "\n",
    "h = image.height\n",
    "w = image.width\n",
    "\n",
    "\n",
    "\n",
    "for rowIndex in range(horizontalLines.shape[0]):\n",
    "    line = [horizontalLines[rowIndex, 0, 0], horizontalLines[rowIndex, 0, 1], \n",
    "            horizontalLines[rowIndex, 1, 0], horizontalLines[rowIndex, 1, 1]]\n",
    "    draw.line(extendLineToEdges(line, h, w), fill='#00ff00', width = 3)\n",
    "    \n",
    "for rowIndex in range(verticalLines.shape[0]):\n",
    "    line = [verticalLines[rowIndex, 0, 0], verticalLines[rowIndex, 0, 1], \n",
    "            verticalLines[rowIndex, 1, 0], verticalLines[rowIndex, 1, 1]]\n",
    "    draw.line(extendLineToEdges(line, h, w), fill='#ff2211', width = 3)\n",
    "\n",
    "image.save('images/buildingUndistortedWithLines.jpg')"
   ]
  },
  {
   "cell_type": "code",
   "execution_count": 19,
   "metadata": {},
   "outputs": [
    {
     "data": {
      "text/plain": [
       "804"
      ]
     },
     "execution_count": 19,
     "metadata": {},
     "output_type": "execute_result"
    }
   ],
   "source": [
    "image.height"
   ]
  },
  {
   "cell_type": "code",
   "execution_count": null,
   "metadata": {},
   "outputs": [],
   "source": []
  },
  {
   "cell_type": "code",
   "execution_count": null,
   "metadata": {},
   "outputs": [],
   "source": []
  }
 ],
 "metadata": {
  "kernelspec": {
   "display_name": "Python 3",
   "language": "python",
   "name": "python3"
  },
  "language_info": {
   "codemirror_mode": {
    "name": "ipython",
    "version": 3
   },
   "file_extension": ".py",
   "mimetype": "text/x-python",
   "name": "python",
   "nbconvert_exporter": "python",
   "pygments_lexer": "ipython3",
   "version": "3.6.10"
  }
 },
 "nbformat": 4,
 "nbformat_minor": 4
}
