{
 "cells": [
  {
   "cell_type": "code",
   "execution_count": 19,
   "metadata": {},
   "outputs": [],
   "source": [
    "# Part 3: Find bundles of parallel lines"
   ]
  },
  {
   "cell_type": "code",
   "execution_count": 1,
   "metadata": {},
   "outputs": [],
   "source": [
    "import numpy as np\n",
    "import cv2\n",
    "from PIL import Image, ImageDraw"
   ]
  },
  {
   "cell_type": "code",
   "execution_count": 2,
   "metadata": {},
   "outputs": [
    {
     "data": {
      "text/plain": [
       "\"Run the draw tool to get points for parallel lines. \\nThis may not work on cloud. If it doesn't download the project and run it in local computer\\nESC to quit the drawing tool and save the points.\\nParameters: \\n    1 path of the image relative to images folder\\n    2 name of the output file. default is buildingLines. Should be overrided if to be used for different sets of points.\\noutput:\\n    an npy file with coordinates for lines.\""
      ]
     },
     "execution_count": 2,
     "metadata": {},
     "output_type": "execute_result"
    }
   ],
   "source": [
    "\"\"\"Run the draw tool to get points for parallel lines. \n",
    "This may not work on cloud. If it doesn't download the project and run it in local computer\n",
    "ESC to quit the drawing tool and save the points.\n",
    "Parameters: \n",
    "    1 path of the image relative to images folder\n",
    "    2 name of the output file. default is buildingLines. Should be overrided if to be used for different sets of points.\n",
    "output:\n",
    "    an npy file with coordinates for lines.\"\"\"\n",
    "# %run .\\drawTool.py buildingUndistorted.jpg horizontalLines"
   ]
  },
  {
   "cell_type": "code",
   "execution_count": 3,
   "metadata": {},
   "outputs": [
    {
     "name": "stdout",
     "output_type": "stream",
     "text": [
      "Image H and W 804 1086\n",
      "TOP_LEFT  (41, 433)\n",
      "BOTTOM_RIGHT (56, 172)\n",
      "TOP_LEFT  (56, 353)\n",
      "BOTTOM_RIGHT (63, 218)\n",
      "TOP_LEFT  (71, 203)\n",
      "BOTTOM_RIGHT (73, 153)\n",
      "TOP_LEFT  (250, 248)\n",
      "BOTTOM_RIGHT (251, 207)\n",
      "TOP_LEFT  (259, 251)\n",
      "BOTTOM_RIGHT (259, 204)\n",
      "TOP_LEFT  (262, 387)\n",
      "BOTTOM_RIGHT (265, 282)\n",
      "TOP_LEFT  (396, 396)\n",
      "BOTTOM_RIGHT (397, 295)\n",
      "TOP_LEFT  (401, 284)\n",
      "BOTTOM_RIGHT (402, 248)\n",
      "TOP_LEFT  (503, 307)\n",
      "BOTTOM_RIGHT (503, 277)\n",
      "TOP_LEFT  (511, 457)\n",
      "BOTTOM_RIGHT (510, 278)\n",
      "TOP_LEFT  (607, 332)\n",
      "BOTTOM_RIGHT (607, 304)\n",
      "TOP_LEFT  (671, 347)\n",
      "BOTTOM_RIGHT (670, 319)\n",
      "TOP_LEFT  (682, 472)\n",
      "BOTTOM_RIGHT (679, 328)\n",
      "TOP_LEFT  (783, 371)\n",
      "BOTTOM_RIGHT (782, 351)\n",
      "TOP_LEFT  (1073, 270)\n",
      "BOTTOM_RIGHT (1071, 248)\n",
      "TOP_LEFT  (521, 464)\n",
      "BOTTOM_RIGHT (522, 281)\n",
      "TOP_LEFT  (271, 448)\n",
      "BOTTOM_RIGHT (276, 215)\n",
      "TOP_LEFT  (391, 456)\n",
      "BOTTOM_RIGHT (393, 252)\n",
      "TOP_LEFT  (605, 466)\n",
      "BOTTOM_RIGHT (603, 338)\n",
      "TOP_LEFT  (739, 477)\n",
      "BOTTOM_RIGHT (732, 336)\n",
      "TOP_LEFT  (506, 409)\n",
      "BOTTOM_RIGHT (507, 320)\n",
      "saved line points in verticalLines.npy\n"
     ]
    }
   ],
   "source": [
    "%run .\\drawTool.py buildingUndistorted.jpg verticalLines"
   ]
  },
  {
   "cell_type": "code",
   "execution_count": 4,
   "metadata": {},
   "outputs": [
    {
     "name": "stdout",
     "output_type": "stream",
     "text": [
      "16\n",
      "21\n"
     ]
    }
   ],
   "source": [
    "horizontalLines = np.load('horizontalLines.npy')\n",
    "verticalLines = np.load('verticalLines.npy')\n",
    "print(len(horizontalLines))\n",
    "print(len(verticalLines))"
   ]
  },
  {
   "cell_type": "code",
   "execution_count": 5,
   "metadata": {},
   "outputs": [],
   "source": [
    "# linePoints = [x y x y]\n",
    "def extendLineToEdges(linePoints, h, w):\n",
    "    \n",
    "    # y = mx + c\n",
    "    \n",
    "    m = (linePoints[1] - linePoints[3]) / (linePoints[0] - linePoints[2])\n",
    "    \n",
    "    c = linePoints[1] - m * linePoints[0]\n",
    "    \n",
    "    # the line can intersect any pair of edges, so we calculate them all.\n",
    "    x0 = -c/m\n",
    "    xH = (h-c) / m\n",
    "    y0 = c\n",
    "    yW = m*w + c\n",
    "    \n",
    "    newLinePoints = []\n",
    "    \n",
    "    if x0 >= 0 and x0 <= w:\n",
    "        newLinePoints.append(x0)\n",
    "        newLinePoints.append(0)\n",
    "    if xH >= 0 and xH <= w:\n",
    "        newLinePoints.append(xH)\n",
    "        newLinePoints.append(h)\n",
    "    if y0 >= 0 and y0 <= h:\n",
    "        newLinePoints.append(0)\n",
    "        newLinePoints.append(y0)\n",
    "    if yW >= 0 and yW <= h:\n",
    "        newLinePoints.append(w)\n",
    "        newLinePoints.append(yW)\n",
    "        \n",
    "    return newLinePoints\n",
    "    "
   ]
  },
  {
   "cell_type": "code",
   "execution_count": 6,
   "metadata": {},
   "outputs": [
    {
     "name": "stderr",
     "output_type": "stream",
     "text": [
      "C:\\Users\\adhoc\\Anaconda3\\envs\\opencv3\\lib\\site-packages\\ipykernel_launcher.py:6: RuntimeWarning: divide by zero encountered in long_scalars\n",
      "  \n",
      "C:\\Users\\adhoc\\Anaconda3\\envs\\opencv3\\lib\\site-packages\\ipykernel_launcher.py:11: RuntimeWarning: invalid value encountered in double_scalars\n",
      "  # This is added back by InteractiveShellApp.init_path()\n",
      "C:\\Users\\adhoc\\Anaconda3\\envs\\opencv3\\lib\\site-packages\\ipykernel_launcher.py:12: RuntimeWarning: invalid value encountered in double_scalars\n",
      "  if sys.path[0] == '':\n",
      "C:\\Users\\adhoc\\Anaconda3\\envs\\opencv3\\lib\\site-packages\\ipykernel_launcher.py:14: RuntimeWarning: invalid value encountered in double_scalars\n",
      "  \n"
     ]
    }
   ],
   "source": [
    "image = Image.open('images/buildingUndistorted.jpg')\n",
    "draw = ImageDraw.Draw(image)\n",
    "\n",
    "h = image.height\n",
    "w = image.width\n",
    "\n",
    "\n",
    "\n",
    "for rowIndex in range(horizontalLines.shape[0]):\n",
    "    line = [horizontalLines[rowIndex, 0, 0], horizontalLines[rowIndex, 0, 1], \n",
    "            horizontalLines[rowIndex, 1, 0], horizontalLines[rowIndex, 1, 1]]\n",
    "    draw.line(extendLineToEdges(line, h, w), fill='#00ff00', width = 3)\n",
    "    \n",
    "for rowIndex in range(verticalLines.shape[0]):\n",
    "    line = [verticalLines[rowIndex, 0, 0], verticalLines[rowIndex, 0, 1], \n",
    "            verticalLines[rowIndex, 1, 0], verticalLines[rowIndex, 1, 1]]\n",
    "    draw.line(extendLineToEdges(line, h, w), fill='#ff2211', width = 3)\n",
    "\n",
    "image.save('images/buildingUndistortedWithLines.jpg')"
   ]
  },
  {
   "cell_type": "code",
   "execution_count": 15,
   "metadata": {},
   "outputs": [
    {
     "data": {
      "text/plain": [
       "804"
      ]
     },
     "execution_count": 15,
     "metadata": {},
     "output_type": "execute_result"
    }
   ],
   "source": [
    "image.height"
   ]
  },
  {
   "cell_type": "code",
   "execution_count": null,
   "metadata": {},
   "outputs": [],
   "source": []
  },
  {
   "cell_type": "code",
   "execution_count": null,
   "metadata": {},
   "outputs": [],
   "source": []
  }
 ],
 "metadata": {
  "kernelspec": {
   "display_name": "Python 3",
   "language": "python",
   "name": "python3"
  },
  "language_info": {
   "codemirror_mode": {
    "name": "ipython",
    "version": 3
   },
   "file_extension": ".py",
   "mimetype": "text/x-python",
   "name": "python",
   "nbconvert_exporter": "python",
   "pygments_lexer": "ipython3",
   "version": "3.6.10"
  }
 },
 "nbformat": 4,
 "nbformat_minor": 4
}
