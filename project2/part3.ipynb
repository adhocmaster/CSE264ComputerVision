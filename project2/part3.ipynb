{
 "cells": [
  {
   "cell_type": "code",
   "execution_count": 1,
   "metadata": {},
   "outputs": [],
   "source": [
    "import numpy as np\n",
    "import cv2"
   ]
  },
  {
   "cell_type": "code",
   "execution_count": 20,
   "metadata": {},
   "outputs": [
    {
     "name": "stdout",
     "output_type": "stream",
     "text": [
      "Image H and W 907 1209\n",
      "TOP_LEFT  (312, 143)\n",
      "BOTTOM_RIGHT (309, 384)\n",
      "TOP_LEFT  (447, 217)\n",
      "BOTTOM_RIGHT (461, 392)\n",
      "TOP_LEFT  (637, 250)\n",
      "BOTTOM_RIGHT (642, 502)\n",
      "saved line points in horizontalLines.npy\n"
     ]
    }
   ],
   "source": [
    "\"\"\"Run the draw tool to get points for parallel lines. \n",
    "This may not work on cloud. If it doesn't download the project and run it in local computer\n",
    "ESC to quit the drawing tool and save the points.\n",
    "Parameters: \n",
    "    1 path of the image \n",
    "    2 name of the output file. default is buildingLines. Should be overrided if to be used for different sets of points.\n",
    "output:\n",
    "    an npy file with coordinates for lines.\"\"\"\n",
    "%run .\\drawTool.py buildingResized.jpg horizontalLines"
   ]
  },
  {
   "cell_type": "code",
   "execution_count": null,
   "metadata": {},
   "outputs": [],
   "source": [
    "%run .\\drawTool.py buildingResized.jpg verticalLines"
   ]
  },
  {
   "cell_type": "code",
   "execution_count": 21,
   "metadata": {},
   "outputs": [],
   "source": [
    "linePoints = np.load('horizontalLines.npy')"
   ]
  },
  {
   "cell_type": "code",
   "execution_count": 22,
   "metadata": {},
   "outputs": [
    {
     "data": {
      "text/plain": [
       "array([[[312, 143],\n",
       "        [309, 384]],\n",
       "\n",
       "       [[447, 217],\n",
       "        [461, 392]],\n",
       "\n",
       "       [[637, 250],\n",
       "        [642, 502]]])"
      ]
     },
     "execution_count": 22,
     "metadata": {},
     "output_type": "execute_result"
    }
   ],
   "source": [
    "linePoints"
   ]
  },
  {
   "cell_type": "code",
   "execution_count": 6,
   "metadata": {},
   "outputs": [
    {
     "name": "stdout",
     "output_type": "stream",
     "text": [
      "Image H and W 907 1209\n",
      "TOP_LEFT  (317, 177)\n",
      "BOTTOM_RIGHT (358, 616)\n",
      "TOP_LEFT  (103, 217)\n",
      "BOTTOM_RIGHT (89, 497)\n",
      "TOP_LEFT  (6, 7)\n",
      "BOTTOM_RIGHT (13, 294)\n",
      "TOP_LEFT  (12, 562)\n",
      "BOTTOM_RIGHT (12, 714)\n",
      "saved line points in buildingLines.npy\n"
     ]
    }
   ],
   "source": []
  },
  {
   "cell_type": "code",
   "execution_count": null,
   "metadata": {},
   "outputs": [],
   "source": []
  }
 ],
 "metadata": {
  "kernelspec": {
   "display_name": "Python 3",
   "language": "python",
   "name": "python3"
  },
  "language_info": {
   "codemirror_mode": {
    "name": "ipython",
    "version": 3
   },
   "file_extension": ".py",
   "mimetype": "text/x-python",
   "name": "python",
   "nbconvert_exporter": "python",
   "pygments_lexer": "ipython3",
   "version": "3.6.10"
  }
 },
 "nbformat": 4,
 "nbformat_minor": 4
}
