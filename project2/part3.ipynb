{
 "cells": [
  {
   "cell_type": "code",
   "execution_count": 23,
   "metadata": {},
   "outputs": [],
   "source": [
    "import numpy as np\n",
    "import cv2\n",
    "from PIL import Image, ImageDraw"
   ]
  },
  {
   "cell_type": "code",
   "execution_count": 54,
   "metadata": {},
   "outputs": [
    {
     "name": "stdout",
     "output_type": "stream",
     "text": [
      "Image H and W 804 1086\n"
     ]
    }
   ],
   "source": [
    "\"\"\"Run the draw tool to get points for parallel lines. \n",
    "This may not work on cloud. If it doesn't download the project and run it in local computer\n",
    "ESC to quit the drawing tool and save the points.\n",
    "Parameters: \n",
    "    1 path of the image relative to images folder\n",
    "    2 name of the output file. default is buildingLines. Should be overrided if to be used for different sets of points.\n",
    "output:\n",
    "    an npy file with coordinates for lines.\"\"\"\n",
    "%run .\\drawTool.py buildingUndistorted.jpg horizontalLines"
   ]
  },
  {
   "cell_type": "code",
   "execution_count": 49,
   "metadata": {},
   "outputs": [
    {
     "name": "stdout",
     "output_type": "stream",
     "text": [
      "Image H and W 907 1209\n",
      "TOP_LEFT  (307, 150)\n",
      "BOTTOM_RIGHT (336, 674)\n",
      "TOP_LEFT  (342, 194)\n",
      "BOTTOM_RIGHT (374, 758)\n",
      "TOP_LEFT  (626, 239)\n",
      "BOTTOM_RIGHT (641, 630)\n",
      "TOP_LEFT  (953, 255)\n",
      "BOTTOM_RIGHT (954, 575)\n",
      "saved line points in verticalLines.npy\n"
     ]
    }
   ],
   "source": [
    "%run .\\drawTool.py buildingUndistorted.jpg verticalLines"
   ]
  },
  {
   "cell_type": "code",
   "execution_count": 50,
   "metadata": {},
   "outputs": [],
   "source": [
    "horizontalLines = np.load('horizontalLines.npy')\n",
    "verticalLines = np.load('verticalLines.npy')"
   ]
  },
  {
   "cell_type": "code",
   "execution_count": 51,
   "metadata": {},
   "outputs": [
    {
     "data": {
      "text/plain": [
       "array([[[281, 254],\n",
       "        [546, 265]],\n",
       "\n",
       "       [[274, 137],\n",
       "        [542, 182]],\n",
       "\n",
       "       [[  3, 121],\n",
       "        [240,  55]],\n",
       "\n",
       "       [[  4, 149],\n",
       "        [239,  97]]])"
      ]
     },
     "execution_count": 51,
     "metadata": {},
     "output_type": "execute_result"
    }
   ],
   "source": [
    "horizontalLines"
   ]
  },
  {
   "cell_type": "code",
   "execution_count": 52,
   "metadata": {},
   "outputs": [
    {
     "data": {
      "text/plain": [
       "array([[[307, 150],\n",
       "        [336, 674]],\n",
       "\n",
       "       [[342, 194],\n",
       "        [374, 758]],\n",
       "\n",
       "       [[626, 239],\n",
       "        [641, 630]],\n",
       "\n",
       "       [[953, 255],\n",
       "        [954, 575]]])"
      ]
     },
     "execution_count": 52,
     "metadata": {},
     "output_type": "execute_result"
    }
   ],
   "source": [
    "verticalLines"
   ]
  },
  {
   "cell_type": "code",
   "execution_count": 53,
   "metadata": {},
   "outputs": [],
   "source": [
    "image = Image.open('images/buildingUndistorted.jpg')\n",
    "draw = ImageDraw.Draw(image)\n",
    "\n",
    "for rowIndex in range(horizontalLines.shape[0]):\n",
    "    line = [horizontalLines[rowIndex, 0, 0], horizontalLines[rowIndex, 0, 1], \n",
    "            horizontalLines[rowIndex, 1, 0], horizontalLines[rowIndex, 1, 1]]\n",
    "    draw.line(line, fill='green')\n",
    "    \n",
    "for rowIndex in range(verticalLines.shape[0]):\n",
    "    line = [verticalLines[rowIndex, 0, 0], verticalLines[rowIndex, 0, 1], \n",
    "            verticalLines[rowIndex, 1, 0], verticalLines[rowIndex, 1, 1]]\n",
    "    draw.line(line, fill='red')\n",
    "\n",
    "image.save('images/buildingUndistortedWithLines.jpg')"
   ]
  },
  {
   "cell_type": "code",
   "execution_count": null,
   "metadata": {},
   "outputs": [],
   "source": []
  },
  {
   "cell_type": "code",
   "execution_count": null,
   "metadata": {},
   "outputs": [],
   "source": []
  }
 ],
 "metadata": {
  "kernelspec": {
   "display_name": "Python 3",
   "language": "python",
   "name": "python3"
  },
  "language_info": {
   "codemirror_mode": {
    "name": "ipython",
    "version": 3
   },
   "file_extension": ".py",
   "mimetype": "text/x-python",
   "name": "python",
   "nbconvert_exporter": "python",
   "pygments_lexer": "ipython3",
   "version": "3.6.10"
  }
 },
 "nbformat": 4,
 "nbformat_minor": 4
}
