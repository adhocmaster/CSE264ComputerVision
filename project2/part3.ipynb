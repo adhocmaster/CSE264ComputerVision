{
 "cells": [
  {
   "cell_type": "code",
   "execution_count": 1,
   "metadata": {},
   "outputs": [],
   "source": [
    "import numpy as np\n",
    "import cv2"
   ]
  },
  {
   "cell_type": "code",
   "execution_count": null,
   "metadata": {},
   "outputs": [],
   "source": [
    "\"\"\"Run the draw tool to get points for parallel lines. \n",
    "This may not work on cloud. If it doesn't download the project and run it in local computer\n",
    "ESC to quit the drawing tool and save the points.\"\"\"\n",
    "%run .\\drawTool.py buildingResized"
   ]
  },
  {
   "cell_type": "code",
   "execution_count": 4,
   "metadata": {},
   "outputs": [],
   "source": [
    "linePoints = np.load('buildingLines.npy')"
   ]
  },
  {
   "cell_type": "code",
   "execution_count": 5,
   "metadata": {},
   "outputs": [
    {
     "data": {
      "text/plain": [
       "array([[[   3,    5],\n",
       "        [   6,  392]],\n",
       "\n",
       "       [[ 245,   13],\n",
       "        [ 253,  446]],\n",
       "\n",
       "       [[ 495,   18],\n",
       "        [ 485,  424]],\n",
       "\n",
       "       [[ 693,   69],\n",
       "        [ 707,  381]],\n",
       "\n",
       "       [[ 742,  581],\n",
       "        [1078,  557]],\n",
       "\n",
       "       [[ 758,  648],\n",
       "        [1090,  631]],\n",
       "\n",
       "       [[ 771,  697],\n",
       "        [1073,  688]]])"
      ]
     },
     "execution_count": 5,
     "metadata": {},
     "output_type": "execute_result"
    }
   ],
   "source": [
    "linePoints"
   ]
  },
  {
   "cell_type": "code",
   "execution_count": 6,
   "metadata": {},
   "outputs": [
    {
     "name": "stdout",
     "output_type": "stream",
     "text": [
      "Image H and W 907 1209\n",
      "TOP_LEFT  (317, 177)\n",
      "BOTTOM_RIGHT (358, 616)\n",
      "TOP_LEFT  (103, 217)\n",
      "BOTTOM_RIGHT (89, 497)\n",
      "TOP_LEFT  (6, 7)\n",
      "BOTTOM_RIGHT (13, 294)\n",
      "TOP_LEFT  (12, 562)\n",
      "BOTTOM_RIGHT (12, 714)\n",
      "saved line points in buildingLines.npy\n"
     ]
    }
   ],
   "source": []
  },
  {
   "cell_type": "code",
   "execution_count": null,
   "metadata": {},
   "outputs": [],
   "source": []
  }
 ],
 "metadata": {
  "kernelspec": {
   "display_name": "Python 3",
   "language": "python",
   "name": "python3"
  },
  "language_info": {
   "codemirror_mode": {
    "name": "ipython",
    "version": 3
   },
   "file_extension": ".py",
   "mimetype": "text/x-python",
   "name": "python",
   "nbconvert_exporter": "python",
   "pygments_lexer": "ipython3",
   "version": "3.6.10"
  }
 },
 "nbformat": 4,
 "nbformat_minor": 4
}
