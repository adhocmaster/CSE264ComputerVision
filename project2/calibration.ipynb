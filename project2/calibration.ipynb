{
 "cells": [
  {
   "cell_type": "code",
   "execution_count": 14,
   "metadata": {},
   "outputs": [],
   "source": [
    "import numpy as np\n",
    "import cv2\n",
    "import glob\n",
    "\n",
    "# termination criteria\n",
    "criteria = (cv2.TERM_CRITERIA_EPS + cv2.TERM_CRITERIA_MAX_ITER, 30, 0.001)\n",
    "\n",
    "boardsize = (9,6)\n",
    "# prepare object points, like (0,0,0), (1,0,0), (2,0,0) ....,(6,5,0)\n",
    "objp = np.zeros((6*9,3), np.float32)\n",
    "objp[:,:2] = np.mgrid[0:9,0:6].T.reshape(-1,2)\n",
    "\n",
    "# Arrays to store object points and image points from all the images.\n",
    "objpoints = [] # 3d point in real world space\n",
    "imgpoints = [] # 2d points in image plane.\n",
    "imgObjects = {}\n"
   ]
  },
  {
   "cell_type": "code",
   "execution_count": 19,
   "metadata": {},
   "outputs": [],
   "source": [
    "\n",
    "images = glob.glob('resizedChessboardOk/[0-9]*.jpg')\n",
    "i = 0\n",
    "for fname in images:\n",
    "    i = i + 1\n",
    "    img = cv2.imread(fname)\n",
    "    gray = cv2.cvtColor(img,cv2.COLOR_BGR2GRAY)\n",
    "\n",
    "    # Find the chess board corners\n",
    "    ret, corners = cv2.findChessboardCorners(gray, boardsize,None)\n",
    "\n",
    "    # If found, add object points, image points (after refining them)\n",
    "    if ret == True:\n",
    "        objpoints.append(objp)\n",
    "\n",
    "        cv2.cornerSubPix(gray,corners,(11,11),(-1,-1),criteria)\n",
    "        imgpoints.append(corners)\n",
    "\n",
    "#         cv2.imwrite(f'resizedChessboardOk/{i}.jpg', img)\n",
    "        # Draw and display the corners\n",
    "        cv2.drawChessboardCorners(img, boardsize, corners,ret)\n",
    "        cv2.imwrite(fname.replace('.jpg', '_cor.jpg'), img)\n",
    "        \n",
    "        imgObjects[fname] = img\n",
    "#         cv2.imshow(f'img-{fname}',img)\n",
    "#         cv2.waitKey(1000)\n",
    "    \n",
    "        \n",
    "    else:\n",
    "        print(f'cannot find corners for {fname}')\n",
    "\n",
    "# cv2.destroyAllWindows()"
   ]
  },
  {
   "cell_type": "code",
   "execution_count": 18,
   "metadata": {},
   "outputs": [],
   "source": [
    "for fname, img in imgObjects.items():\n",
    "    cv2.imshow('img', img)\n",
    "    cv2.waitKey(5000)\n",
    "    cv2.destroyAllWindows()"
   ]
  },
  {
   "cell_type": "code",
   "execution_count": 20,
   "metadata": {},
   "outputs": [],
   "source": [
    "# Calibrate camera\n",
    "ret, mtx, dist, rvecs, tvecs = cv2.calibrateCamera(objpoints, imgpoints, gray.shape[::-1],None,None)"
   ]
  },
  {
   "cell_type": "code",
   "execution_count": 21,
   "metadata": {},
   "outputs": [
    {
     "name": "stdout",
     "output_type": "stream",
     "text": [
      "0.1849233650491677\n"
     ]
    }
   ],
   "source": [
    "print(ret)"
   ]
  },
  {
   "cell_type": "code",
   "execution_count": 22,
   "metadata": {},
   "outputs": [
    {
     "name": "stdout",
     "output_type": "stream",
     "text": [
      "[[972.95923425   0.         608.78583476]\n",
      " [  0.         972.29283463 455.2430847 ]\n",
      " [  0.           0.           1.        ]]\n"
     ]
    }
   ],
   "source": [
    "print(mtx)"
   ]
  },
  {
   "cell_type": "code",
   "execution_count": 23,
   "metadata": {},
   "outputs": [
    {
     "name": "stdout",
     "output_type": "stream",
     "text": [
      "[[ 2.86467560e-01 -1.90873622e+00  1.02367901e-03  9.78508048e-04\n",
      "   3.21419899e+00]]\n"
     ]
    }
   ],
   "source": [
    "print(dist)"
   ]
  },
  {
   "cell_type": "code",
   "execution_count": 29,
   "metadata": {},
   "outputs": [
    {
     "name": "stdout",
     "output_type": "stream",
     "text": [
      "error for 0: 0.019882779191702584\n",
      "error for 1: 0.018475289395003387\n",
      "error for 2: 0.017963045345158017\n",
      "error for 3: 0.019913389062169613\n",
      "error for 4: 0.02823589776226673\n",
      "error for 5: 0.02380046693570661\n",
      "error for 6: 0.034779488809968166\n",
      "error for 7: 0.01926847728904087\n",
      "error for 8: 0.0235117399772212\n",
      "error for 9: 0.019668327122671792\n",
      "error for 10: 0.04880105973084611\n",
      "error for 11: 0.03054771529692802\n",
      "error for 12: 0.018593285158430756\n",
      "error for 13: 0.01959022493795794\n",
      "error for 14: 0.018154744972158743\n",
      "error for 15: 0.020455132785942035\n",
      "error for 16: 0.019882779191702584\n",
      "error for 17: 0.018475289395003387\n",
      "error for 18: 0.017963045345158017\n",
      "error for 19: 0.019913389062169613\n",
      "error for 20: 0.02823589776226673\n",
      "error for 21: 0.02380046693570661\n",
      "error for 22: 0.034779488809968166\n",
      "error for 23: 0.01926847728904087\n",
      "error for 24: 0.0235117399772212\n",
      "error for 25: 0.019668327122671792\n",
      "error for 26: 0.04880105973084611\n",
      "error for 27: 0.03054771529692802\n",
      "error for 28: 0.018593285158430756\n",
      "error for 29: 0.01959022493795794\n",
      "error for 30: 0.018154744972158743\n",
      "error for 31: 0.020455132785942035\n",
      "error for 32: 0.019882779191702584\n",
      "error for 33: 0.018475289395003387\n",
      "error for 34: 0.017963045345158017\n",
      "error for 35: 0.019913389062169613\n",
      "error for 36: 0.02823589776226673\n",
      "error for 37: 0.02380046693570661\n",
      "error for 38: 0.034779488809968166\n",
      "error for 39: 0.01926847728904087\n",
      "error for 40: 0.0235117399772212\n",
      "error for 41: 0.019668327122671792\n",
      "error for 42: 0.04880105973084611\n",
      "error for 43: 0.03054771529692802\n",
      "error for 44: 0.018593285158430756\n",
      "error for 45: 0.01959022493795794\n",
      "error for 46: 0.018154744972158743\n",
      "error for 47: 0.020455132785942035\n",
      "total error:  0.023852566485823287\n"
     ]
    }
   ],
   "source": [
    "# reprojection error\n",
    "tot_error = 0.\n",
    "for i in range(len(objpoints)):\n",
    "    imgpoints2, _ = cv2.projectPoints(objpoints[i], rvecs[i], tvecs[i], mtx, dist)\n",
    "    error = cv2.norm(imgpoints[i],imgpoints2, cv2.NORM_L2)/len(imgpoints2)\n",
    "    tot_error += error\n",
    "#     print(f'error for {i}: {error}')\n",
    "\n",
    "print(\"total error: \", tot_error/len(objpoints))"
   ]
  },
  {
   "cell_type": "code",
   "execution_count": null,
   "metadata": {},
   "outputs": [],
   "source": []
  }
 ],
 "metadata": {
  "kernelspec": {
   "display_name": "Python 3",
   "language": "python",
   "name": "python3"
  },
  "language_info": {
   "codemirror_mode": {
    "name": "ipython",
    "version": 3
   },
   "file_extension": ".py",
   "mimetype": "text/x-python",
   "name": "python",
   "nbconvert_exporter": "python",
   "pygments_lexer": "ipython3",
   "version": "3.6.10"
  }
 },
 "nbformat": 4,
 "nbformat_minor": 4
}
