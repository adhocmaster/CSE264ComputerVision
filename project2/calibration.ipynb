{
 "cells": [
  {
   "cell_type": "code",
   "execution_count": 14,
   "metadata": {},
   "outputs": [],
   "source": [
    "import numpy as np\n",
    "import cv2\n",
    "import glob\n",
    "\n",
    "# termination criteria\n",
    "criteria = (cv2.TERM_CRITERIA_EPS + cv2.TERM_CRITERIA_MAX_ITER, 30, 0.001)\n",
    "\n",
    "boardsize = (9,6)\n",
    "# prepare object points, like (0,0,0), (1,0,0), (2,0,0) ....,(6,5,0)\n",
    "objp = np.zeros((6*9,3), np.float32)\n",
    "objp[:,:2] = np.mgrid[0:9,0:6].T.reshape(-1,2)\n",
    "\n",
    "# Arrays to store object points and image points from all the images.\n",
    "objpoints = [] # 3d point in real world space\n",
    "imgpoints = [] # 2d points in image plane.\n",
    "imgObjects = {}\n",
    "\n"
   ]
  },
  {
   "cell_type": "code",
   "execution_count": 15,
   "metadata": {},
   "outputs": [],
   "source": [
    "# img = cv2.imread('resizedChessboard/1.jpg')\n",
    "# gray = cv2.cvtColor(img,cv2.COLOR_BGR2GRAY)\n",
    "\n",
    "# # Find the chess board corners\n",
    "# ret, corners = cv2.findChessboardCorners(gray, (7,6),None)\n",
    "\n",
    "# # If found, add object points, image points (after refining them)\n",
    "# if ret == True:\n",
    "\n",
    "#     cv2.cornerSubPix(gray,corners,(11,11),(-1,-1),criteria)\n",
    "\n",
    "#     # Draw and display the corners\n",
    "#     cv2.drawChessboardCorners(img, (7,6), corners,ret)\n",
    "#     cv2.imshow('img',img)\n",
    "#     cv2.waitKey(10000)\n",
    "    \n",
    "# else:\n",
    "#     print(f'cannot find corners for 1.jpg')\n",
    "\n",
    "# cv2.destroyAllWindows()"
   ]
  },
  {
   "cell_type": "code",
   "execution_count": 19,
   "metadata": {},
   "outputs": [],
   "source": [
    "\n",
    "images = glob.glob('resizedChessboardOk/[0-9]*.jpg')\n",
    "i = 0\n",
    "for fname in images:\n",
    "    i = i + 1\n",
    "    img = cv2.imread(fname)\n",
    "    gray = cv2.cvtColor(img,cv2.COLOR_BGR2GRAY)\n",
    "\n",
    "    # Find the chess board corners\n",
    "    ret, corners = cv2.findChessboardCorners(gray, boardsize,None)\n",
    "\n",
    "    # If found, add object points, image points (after refining them)\n",
    "    if ret == True:\n",
    "        objpoints.append(objp)\n",
    "\n",
    "        cv2.cornerSubPix(gray,corners,(11,11),(-1,-1),criteria)\n",
    "        imgpoints.append(corners)\n",
    "\n",
    "#         cv2.imwrite(f'resizedChessboardOk/{i}.jpg', img)\n",
    "        # Draw and display the corners\n",
    "        cv2.drawChessboardCorners(img, boardsize, corners,ret)\n",
    "        cv2.imwrite(fname.replace('.jpg', '_cor.jpg'), img)\n",
    "        \n",
    "        imgObjects[fname] = img\n",
    "#         cv2.imshow(f'img-{fname}',img)\n",
    "#         cv2.waitKey(1000)\n",
    "    \n",
    "        \n",
    "    else:\n",
    "        print(f'cannot find corners for {fname}')\n",
    "\n",
    "# cv2.destroyAllWindows()"
   ]
  },
  {
   "cell_type": "code",
   "execution_count": 7,
   "metadata": {},
   "outputs": [
    {
     "name": "stdout",
     "output_type": "stream",
     "text": [
      "dict_keys(['resizedChessboard\\\\1.jpg', 'resizedChessboard\\\\17.jpg', 'resizedChessboard\\\\37.jpg', 'resizedChessboard\\\\38.jpg', 'resizedChessboard\\\\52.jpg', 'resizedChessboard\\\\55.jpg', 'resizedChessboard\\\\56.jpg', 'resizedChessboard\\\\57.jpg', 'resizedChessboard\\\\6.jpg', 'resizedChessboard\\\\77.jpg', 'resizedChessboard\\\\78.jpg', 'resizedChessboard\\\\90.jpg', 'resizedChessboard\\\\92.jpg', 'resizedChessboard\\\\94.jpg', 'resizedChessboard\\\\98.jpg', 'resizedChessboard\\\\99.jpg'])\n"
     ]
    }
   ],
   "source": [
    "print(imgObjects.keys())"
   ]
  },
  {
   "cell_type": "code",
   "execution_count": 16,
   "metadata": {},
   "outputs": [
    {
     "ename": "SyntaxError",
     "evalue": "invalid syntax (<ipython-input-16-680a4c46d588>, line 1)",
     "output_type": "error",
     "traceback": [
      "\u001b[1;36m  File \u001b[1;32m\"<ipython-input-16-680a4c46d588>\"\u001b[1;36m, line \u001b[1;32m1\u001b[0m\n\u001b[1;33m    cv2.imshow('img', imgObjects[])\u001b[0m\n\u001b[1;37m                                 ^\u001b[0m\n\u001b[1;31mSyntaxError\u001b[0m\u001b[1;31m:\u001b[0m invalid syntax\n"
     ]
    }
   ],
   "source": [
    "cv2.imshow('img', imgObjects[])\n",
    "cv2.waitKey(5000)\n",
    "cv2.destroyAllWindows()"
   ]
  },
  {
   "cell_type": "code",
   "execution_count": 18,
   "metadata": {},
   "outputs": [],
   "source": [
    "for fname, img in imgObjects.items():\n",
    "    cv2.imshow('img', img)\n",
    "    cv2.waitKey(5000)\n",
    "    cv2.destroyAllWindows()"
   ]
  },
  {
   "cell_type": "code",
   "execution_count": null,
   "metadata": {},
   "outputs": [],
   "source": []
  }
 ],
 "metadata": {
  "kernelspec": {
   "display_name": "Python 3",
   "language": "python",
   "name": "python3"
  },
  "language_info": {
   "codemirror_mode": {
    "name": "ipython",
    "version": 3
   },
   "file_extension": ".py",
   "mimetype": "text/x-python",
   "name": "python",
   "nbconvert_exporter": "python",
   "pygments_lexer": "ipython3",
   "version": "3.6.10"
  }
 },
 "nbformat": 4,
 "nbformat_minor": 4
}
