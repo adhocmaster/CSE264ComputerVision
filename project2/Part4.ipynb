{
 "cells": [
  {
   "cell_type": "code",
   "execution_count": 1,
   "metadata": {},
   "outputs": [],
   "source": [
    "# Part 4: Find the rectifying homography"
   ]
  },
  {
   "cell_type": "code",
   "execution_count": 2,
   "metadata": {},
   "outputs": [],
   "source": [
    "import numpy as np\n",
    "import cv2\n",
    "import sys"
   ]
  },
  {
   "cell_type": "code",
   "execution_count": 60,
   "metadata": {},
   "outputs": [],
   "source": [
    "horVP = np.load('horVP.npy')\n",
    "vertVP = np.load('vertVP.npy')\n",
    "transversalVP = np.load('transversalVP.npy')\n",
    "K = np.load('newcameramtx.npy')\n",
    "Kinv = np.linalg.inv(K)\n",
    "srcImage = cv2.imread('images/buildingUndistorted.jpg')\n",
    "# srcImage = cv2.imread('images/buildingUndistortedWithLines.jpg')\n",
    "destPathW = 'images/buildingTransformedW.jpg'\n",
    "destPathR = 'images/buildingTransformedR.jpg'"
   ]
  },
  {
   "cell_type": "code",
   "execution_count": 4,
   "metadata": {},
   "outputs": [
    {
     "name": "stdout",
     "output_type": "stream",
     "text": [
      "[-0.5740622  -0.04770422 -0.81742088]\n",
      "[-0.01921299 -0.99093285  0.13297723]\n",
      "[ 0.81739148 -0.09215941 -0.56866318]\n"
     ]
    }
   ],
   "source": [
    "# horVP = -horVP\n",
    "vertVP = -vertVP\n",
    "print(horVP)\n",
    "print(vertVP)\n",
    "print(transversalVP)"
   ]
  },
  {
   "cell_type": "code",
   "execution_count": 5,
   "metadata": {},
   "outputs": [
    {
     "data": {
      "text/plain": [
       "array([[-0.5740622 , -0.01921299,  0.81739148],\n",
       "       [-0.04770422, -0.99093285, -0.09215941],\n",
       "       [-0.81742088,  0.13297723, -0.56866318]])"
      ]
     },
     "execution_count": 5,
     "metadata": {},
     "output_type": "execute_result"
    }
   ],
   "source": [
    "W = np.stack((horVP, vertVP, transversalVP))\n",
    "WInv = np.linalg.inv(W)\n",
    "R = W.transpose()\n",
    "R"
   ]
  },
  {
   "cell_type": "code",
   "execution_count": 55,
   "metadata": {},
   "outputs": [],
   "source": [
    "Ht = np.array([[1, 0, -1020],\n",
    "     [0, 1, 3960],\n",
    "     [0, 0, 1]])"
   ]
  },
  {
   "cell_type": "code",
   "execution_count": 56,
   "metadata": {},
   "outputs": [],
   "source": [
    "Hw = np.dot( Ht, np.dot( np.dot(K, W), Kinv ) )\n",
    "Hr = np.dot( Ht, np.dot( np.dot(K, R), Kinv ) )"
   ]
  },
  {
   "cell_type": "code",
   "execution_count": 61,
   "metadata": {},
   "outputs": [
    {
     "data": {
      "text/plain": [
       "True"
      ]
     },
     "execution_count": 61,
     "metadata": {},
     "output_type": "execute_result"
    }
   ],
   "source": [
    "transformedImageW = cv2.warpPerspective(srcImage, M = Hw, dsize = (7745, 5510))\n",
    "# cv2.imshow('img-W', transformedImageW)\n",
    "# cv2.waitKey(5000)\n",
    "# cv2.destroyAllWindows()\n",
    "cv2.imwrite(destPathW, transformedImageW)"
   ]
  },
  {
   "cell_type": "code",
   "execution_count": 9,
   "metadata": {},
   "outputs": [
    {
     "data": {
      "text/plain": [
       "True"
      ]
     },
     "execution_count": 9,
     "metadata": {},
     "output_type": "execute_result"
    }
   ],
   "source": [
    "transformedImageR = cv2.warpPerspective(srcImage, M = Hr, dsize = (4000, 2500))\n",
    "# cv2.imshow('img-R', transformedImageR)\n",
    "# cv2.waitKey(5000)\n",
    "# cv2.destroyAllWindows()\n",
    "cv2.imwrite(destPathR, transformedImageR)"
   ]
  },
  {
   "cell_type": "code",
   "execution_count": 62,
   "metadata": {},
   "outputs": [
    {
     "data": {
      "text/plain": [
       "array([[ 6.50108503e-02,  1.02515826e-01,  1.02672899e+03],\n",
       "       [-3.49120784e-01,  1.00164168e+00, -1.18233470e+02],\n",
       "       [-8.06154250e-04,  9.17405309e-05,  1.00000000e+00]])"
      ]
     },
     "execution_count": 62,
     "metadata": {},
     "output_type": "execute_result"
    }
   ],
   "source": [
    "H = np.dot( np.dot(K, W), Kinv )\n",
    "H / H[2,2]"
   ]
  },
  {
   "cell_type": "code",
   "execution_count": 11,
   "metadata": {},
   "outputs": [],
   "source": [
    "# lets check the 4 corners\n",
    "c1 = np.array([0, 0, 1])\n",
    "c2 = np.array([1086, 0, 1])\n",
    "c3 = np.array([1086, 804, 1])\n",
    "c4 = np.array([0, 804, 1])\n",
    "\n",
    "d1 = np.dot(H, c1)\n",
    "d2 = np.dot(H, c2)\n",
    "d3 = np.dot(H, c3)\n",
    "d4 = np.dot(H, c4)"
   ]
  },
  {
   "cell_type": "code",
   "execution_count": 12,
   "metadata": {},
   "outputs": [
    {
     "name": "stdout",
     "output_type": "stream",
     "text": [
      "[-1060   122    -1]\n",
      "[-1132   513     0]\n",
      "[-1218  -317     0]\n",
      "[-1145  -709    -1]\n"
     ]
    }
   ],
   "source": [
    "print(d1.astype('int'))\n",
    "print(d2.astype('int'))\n",
    "print(d3.astype('int'))\n",
    "print(d4.astype('int'))"
   ]
  },
  {
   "cell_type": "code",
   "execution_count": null,
   "metadata": {},
   "outputs": [],
   "source": []
  }
 ],
 "metadata": {
  "kernelspec": {
   "display_name": "Python 3",
   "language": "python",
   "name": "python3"
  },
  "language_info": {
   "codemirror_mode": {
    "name": "ipython",
    "version": 3
   },
   "file_extension": ".py",
   "mimetype": "text/x-python",
   "name": "python",
   "nbconvert_exporter": "python",
   "pygments_lexer": "ipython3",
   "version": "3.6.10"
  }
 },
 "nbformat": 4,
 "nbformat_minor": 4
}
